{
 "cells": [
  {
   "cell_type": "markdown",
   "id": "758eb849",
   "metadata": {},
   "source": [
    "# sum of list"
   ]
  },
  {
   "cell_type": "code",
   "execution_count": 6,
   "id": "2a4ae0df",
   "metadata": {},
   "outputs": [],
   "source": [
    "def list_sum(l):\n",
    "    new=0\n",
    "    for i in l:\n",
    "        new=new+i\n",
    "    print(new)"
   ]
  },
  {
   "cell_type": "code",
   "execution_count": 7,
   "id": "3b564c96",
   "metadata": {},
   "outputs": [
    {
     "name": "stdout",
     "output_type": "stream",
     "text": [
      "10\n"
     ]
    }
   ],
   "source": [
    "list1=(1,5,1,3)\n",
    "list_sum(list1)\n"
   ]
  },
  {
   "cell_type": "code",
   "execution_count": 8,
   "id": "b8926749",
   "metadata": {},
   "outputs": [
    {
     "name": "stdout",
     "output_type": "stream",
     "text": [
      "no. of elements5\n",
      "enter element: 1\n",
      "enter element: 2\n",
      "enter element: 3\n",
      "enter element: 4\n",
      "enter element: 5\n",
      "[1, 2, 3, 4, 5]\n",
      "15\n"
     ]
    }
   ],
   "source": [
    "list=[]\n",
    "a=int(input(\"no. of elements\"))\n",
    "for i in range(0,a):\n",
    "    ele=int(input(\"enter element: \"))\n",
    "    list.append(ele)\n",
    "print(list)\n",
    "list_sum(list)\n",
    "    \n",
    "    \n",
    "    \n"
   ]
  },
  {
   "cell_type": "code",
   "execution_count": null,
   "id": "db9a6dd4",
   "metadata": {},
   "outputs": [],
   "source": []
  },
  {
   "cell_type": "code",
   "execution_count": 9,
   "id": "086381b4",
   "metadata": {},
   "outputs": [
    {
     "name": "stdout",
     "output_type": "stream",
     "text": [
      "slice(None, 2, None)\n"
     ]
    }
   ],
   "source": [
    "\n",
    "a=(1,2,3,4,5,6,7,8,9,0)\n",
    "\n",
    "print(slice(2))"
   ]
  },
  {
   "cell_type": "code",
   "execution_count": 14,
   "id": "82e51dbe",
   "metadata": {
    "scrolled": true
   },
   "outputs": [
    {
     "name": "stdout",
     "output_type": "stream",
     "text": [
      "slice(None, 2, None)\n"
     ]
    },
    {
     "ename": "TypeError",
     "evalue": "tuple indices must be integers or slices, not NoneType",
     "output_type": "error",
     "traceback": [
      "\u001b[1;31m---------------------------------------------------------------------------\u001b[0m",
      "\u001b[1;31mTypeError\u001b[0m                                 Traceback (most recent call last)",
      "\u001b[1;32m~\\AppData\\Local\\Temp/ipykernel_3172/98654241.py\u001b[0m in \u001b[0;36m<module>\u001b[1;34m\u001b[0m\n\u001b[0;32m      1\u001b[0m \u001b[0ma\u001b[0m\u001b[1;33m=\u001b[0m\u001b[1;33m(\u001b[0m\u001b[1;36m1\u001b[0m\u001b[1;33m,\u001b[0m\u001b[1;36m2\u001b[0m\u001b[1;33m,\u001b[0m\u001b[1;36m3\u001b[0m\u001b[1;33m,\u001b[0m\u001b[1;36m4\u001b[0m\u001b[1;33m,\u001b[0m\u001b[1;36m5\u001b[0m\u001b[1;33m,\u001b[0m\u001b[1;36m6\u001b[0m\u001b[1;33m,\u001b[0m\u001b[1;36m7\u001b[0m\u001b[1;33m,\u001b[0m\u001b[1;36m8\u001b[0m\u001b[1;33m,\u001b[0m\u001b[1;36m9\u001b[0m\u001b[1;33m,\u001b[0m\u001b[1;36m0\u001b[0m\u001b[1;33m)\u001b[0m\u001b[1;33m\u001b[0m\u001b[1;33m\u001b[0m\u001b[0m\n\u001b[0;32m      2\u001b[0m \u001b[1;33m\u001b[0m\u001b[0m\n\u001b[1;32m----> 3\u001b[1;33m \u001b[0mprint\u001b[0m\u001b[1;33m(\u001b[0m\u001b[0ma\u001b[0m\u001b[1;33m[\u001b[0m\u001b[0mprint\u001b[0m\u001b[1;33m(\u001b[0m\u001b[0mslice\u001b[0m\u001b[1;33m(\u001b[0m\u001b[1;36m2\u001b[0m\u001b[1;33m)\u001b[0m\u001b[1;33m)\u001b[0m\u001b[1;33m]\u001b[0m\u001b[1;33m)\u001b[0m\u001b[1;33m\u001b[0m\u001b[1;33m\u001b[0m\u001b[0m\n\u001b[0m",
      "\u001b[1;31mTypeError\u001b[0m: tuple indices must be integers or slices, not NoneType"
     ]
    }
   ],
   "source": [
    "\n",
    "a=(1,2,3,4,5,6,7,8,9,0)\n",
    "\n",
    "print(a[print(slice(2))])"
   ]
  },
  {
   "cell_type": "code",
   "execution_count": 16,
   "id": "b5f8dd52",
   "metadata": {},
   "outputs": [
    {
     "name": "stdout",
     "output_type": "stream",
     "text": [
      "(1, 2)\n"
     ]
    }
   ],
   "source": [
    "x=slice(2)\n",
    "print(a[x])"
   ]
  },
  {
   "cell_type": "code",
   "execution_count": 19,
   "id": "b00ae78f",
   "metadata": {},
   "outputs": [
    {
     "name": "stdout",
     "output_type": "stream",
     "text": [
      "(3, 5, 7, 9)\n"
     ]
    }
   ],
   "source": [
    "x=slice(2,9,2)\n",
    "print(a[x])"
   ]
  },
  {
   "cell_type": "code",
   "execution_count": null,
   "id": "ee7ecb29",
   "metadata": {},
   "outputs": [],
   "source": [
    "#print first four element using slice"
   ]
  },
  {
   "cell_type": "code",
   "execution_count": 20,
   "id": "e149cf7f",
   "metadata": {},
   "outputs": [
    {
     "name": "stdout",
     "output_type": "stream",
     "text": [
      "(1, 2, 3)\n"
     ]
    }
   ],
   "source": [
    "x=slice(0,3)\n",
    "print(a[x])"
   ]
  },
  {
   "cell_type": "code",
   "execution_count": null,
   "id": "035c2a29",
   "metadata": {},
   "outputs": [],
   "source": [
    "#print all element using slice funcion"
   ]
  },
  {
   "cell_type": "code",
   "execution_count": 21,
   "id": "14809e12",
   "metadata": {},
   "outputs": [
    {
     "name": "stdout",
     "output_type": "stream",
     "text": [
      "(1, 2, 3, 4, 5, 6, 7, 8, 9, 0)\n"
     ]
    }
   ],
   "source": [
    "x=slice(0,10) #for that we needs length function\n",
    "print(a[x])"
   ]
  },
  {
   "cell_type": "code",
   "execution_count": 22,
   "id": "66a9fc62",
   "metadata": {},
   "outputs": [
    {
     "name": "stdout",
     "output_type": "stream",
     "text": [
      "10\n"
     ]
    }
   ],
   "source": [
    "print(len(a))"
   ]
  },
  {
   "cell_type": "code",
   "execution_count": 23,
   "id": "1e266606",
   "metadata": {},
   "outputs": [
    {
     "name": "stdout",
     "output_type": "stream",
     "text": [
      "45\n"
     ]
    }
   ],
   "source": [
    "print(sum(a))"
   ]
  },
  {
   "cell_type": "code",
   "execution_count": 24,
   "id": "7820cdf7",
   "metadata": {},
   "outputs": [
    {
     "data": {
      "text/plain": [
       "10"
      ]
     },
     "execution_count": 24,
     "metadata": {},
     "output_type": "execute_result"
    }
   ],
   "source": [
    "len(a)"
   ]
  },
  {
   "cell_type": "code",
   "execution_count": null,
   "id": "d3f2040d",
   "metadata": {},
   "outputs": [],
   "source": [
    "#addition \n",
    "#odd even\n",
    "#factorial"
   ]
  },
  {
   "cell_type": "code",
   "execution_count": null,
   "id": "8e9c1df5",
   "metadata": {},
   "outputs": [],
   "source": [
    "#factorial using function"
   ]
  },
  {
   "cell_type": "code",
   "execution_count": 34,
   "id": "bbeb4a24",
   "metadata": {},
   "outputs": [],
   "source": [
    "def factorial(f):\n",
    "    fac=1\n",
    "    for i in range(1,1+f):\n",
    "        fac=fac*i\n",
    "    print(fac)"
   ]
  },
  {
   "cell_type": "code",
   "execution_count": 35,
   "id": "e86db693",
   "metadata": {},
   "outputs": [
    {
     "name": "stdout",
     "output_type": "stream",
     "text": [
      "a=6\n",
      "720\n"
     ]
    }
   ],
   "source": [
    "a=int(input(\"a=\"))\n",
    "factorial(a)"
   ]
  },
  {
   "cell_type": "code",
   "execution_count": null,
   "id": "c422b38d",
   "metadata": {},
   "outputs": [],
   "source": [
    "#write a program for sum of digit "
   ]
  },
  {
   "cell_type": "code",
   "execution_count": 36,
   "id": "890bb885",
   "metadata": {},
   "outputs": [
    {
     "name": "stdout",
     "output_type": "stream",
     "text": [
      "3\n"
     ]
    }
   ],
   "source": [
    "print(3%10)"
   ]
  },
  {
   "cell_type": "code",
   "execution_count": 5,
   "id": "05f712e2",
   "metadata": {},
   "outputs": [
    {
     "name": "stdout",
     "output_type": "stream",
     "text": [
      "enter n: 56\n",
      "sum of digit is 11\n"
     ]
    }
   ],
   "source": [
    "n=int(input(\"enter n: \"))\n",
    "sum1=0\n",
    "while (n>0):\n",
    "    d=n%10\n",
    "    #print(d)\n",
    "    n=n//10\n",
    "    sum1=sum1+d\n",
    "print(\"sum of digit is\",sum1)"
   ]
  },
  {
   "cell_type": "code",
   "execution_count": null,
   "id": "75fe8f11",
   "metadata": {
    "collapsed": true
   },
   "outputs": [],
   "source": [
    "#count the number of digits in given number"
   ]
  },
  {
   "cell_type": "code",
   "execution_count": 7,
   "id": "1638d5ed",
   "metadata": {},
   "outputs": [
    {
     "name": "stdout",
     "output_type": "stream",
     "text": [
      "enter n: 546\n",
      "sum of digit is 15\n",
      "number of digits 3\n"
     ]
    }
   ],
   "source": [
    "n=int(input(\"enter n: \"))\n",
    "sum1=0\n",
    "count=0\n",
    "while (n>0):\n",
    "    d=n%10\n",
    "    #print(d)\n",
    "    n=n//10\n",
    "    sum1=sum1+d\n",
    "    count=count+1\n",
    "print(\"sum of digit is\",sum1)\n",
    "print(\"number of digits\",count)"
   ]
  },
  {
   "cell_type": "code",
   "execution_count": null,
   "id": "872240ab",
   "metadata": {},
   "outputs": [],
   "source": [
    "#reverse a number. (in this also seprate digit)"
   ]
  },
  {
   "cell_type": "code",
   "execution_count": null,
   "id": "9e607801",
   "metadata": {},
   "outputs": [],
   "source": []
  },
  {
   "cell_type": "code",
   "execution_count": null,
   "id": "bef1119a",
   "metadata": {},
   "outputs": [],
   "source": [
    "#armstrong or not?(153 in armstrong number)"
   ]
  },
  {
   "cell_type": "code",
   "execution_count": 12,
   "id": "eee3bb69",
   "metadata": {},
   "outputs": [
    {
     "name": "stdout",
     "output_type": "stream",
     "text": [
      "enter n: 6534\n",
      "4\n"
     ]
    }
   ],
   "source": [
    "n=int(input(\"enter n: \"))\n",
    "count=0\n",
    "ans=0\n",
    "t=n\n",
    "while (n>0):\n",
    "    n=n//10\n",
    "    count=count+1\n",
    "print(count)\n"
   ]
  },
  {
   "cell_type": "code",
   "execution_count": 18,
   "id": "df45c660",
   "metadata": {},
   "outputs": [
    {
     "name": "stdout",
     "output_type": "stream",
     "text": [
      "enter n: 153\n",
      "153 is armstrong number\n"
     ]
    }
   ],
   "source": [
    "n=int(input(\"enter n: \"))\n",
    "count=0\n",
    "ans=0\n",
    "t=n\n",
    "a=n\n",
    "while (n>0):\n",
    "    n=n//10\n",
    "    count=count+1\n",
    "while(t>0):\n",
    "    d=t%10\n",
    "    t=t//10\n",
    "    ans=ans+d**count\n",
    "if(ans==a):\n",
    "    print(a,\"is armstrong number\")\n",
    "else:\n",
    "    print(a,\"is not armstrong number\")\n",
    "    \n"
   ]
  },
  {
   "cell_type": "code",
   "execution_count": null,
   "id": "84229df6",
   "metadata": {},
   "outputs": [],
   "source": []
  }
 ],
 "metadata": {
  "kernelspec": {
   "display_name": "Python 3 (ipykernel)",
   "language": "python",
   "name": "python3"
  },
  "language_info": {
   "codemirror_mode": {
    "name": "ipython",
    "version": 3
   },
   "file_extension": ".py",
   "mimetype": "text/x-python",
   "name": "python",
   "nbconvert_exporter": "python",
   "pygments_lexer": "ipython3",
   "version": "3.7.6"
  }
 },
 "nbformat": 4,
 "nbformat_minor": 5
}
