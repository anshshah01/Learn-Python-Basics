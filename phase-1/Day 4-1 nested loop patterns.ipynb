{
 "cells": [
  {
   "cell_type": "markdown",
   "id": "669cbada",
   "metadata": {},
   "source": [
    "# factorial of a number from given range"
   ]
  },
  {
   "cell_type": "code",
   "execution_count": null,
   "id": "34fa320e",
   "metadata": {},
   "outputs": [],
   "source": [
    "x=int(input(\"x=\"))\n",
    "y=int(input(\"y=\"))\n",
    "fact=1\n",
    "for i in range(x,y+1):\n",
    "    fact=fact*i\n",
    "    for j in range():\n",
    "        \n",
    "    \n",
    "\n",
    "\n",
    "\n",
    "        \n",
    "        \n"
   ]
  },
  {
   "cell_type": "code",
   "execution_count": 5,
   "id": "d977ff29",
   "metadata": {},
   "outputs": [
    {
     "name": "stdout",
     "output_type": "stream",
     "text": [
      "enter no of row5\n",
      "*  \n",
      "* *  \n",
      "* * *  \n",
      "* * * *  \n",
      "* * * * *  \n"
     ]
    }
   ],
   "source": [
    "r=int(input(\"enter no of row\"))#r=5\n",
    "for i in range(1,r+1):\n",
    "    for j in range(1,i+1):\n",
    "        print(\"*\",end=\" \")\n",
    "    print(\" \")"
   ]
  },
  {
   "cell_type": "code",
   "execution_count": 16,
   "id": "e23ec891",
   "metadata": {},
   "outputs": [
    {
     "name": "stdout",
     "output_type": "stream",
     "text": [
      "enter no of row5\n",
      "A  \n",
      "B B  \n",
      "C C C  \n",
      "D D D D  \n",
      "E E E E E  \n"
     ]
    }
   ],
   "source": [
    "r=int(input(\"enter no of row\"))\n",
    "for i in range(1,r+1):\n",
    "    for j in range(1,i+1):\n",
    "        print(chr(i+64),end=\" \")   # in asky value   a=65  b=66...z=97\n",
    "        \n",
    "    print(\" \")\n",
    "    \n",
    "    "
   ]
  },
  {
   "cell_type": "code",
   "execution_count": 12,
   "id": "2a0af725",
   "metadata": {},
   "outputs": [
    {
     "name": "stdout",
     "output_type": "stream",
     "text": [
      "enter no of row5\n",
      "A  \n",
      "A B  \n",
      "A B C  \n",
      "A B C D  \n",
      "A B C D E  \n"
     ]
    }
   ],
   "source": [
    "r=int(input(\"enter no of row\"))\n",
    "for i in range(1,r+1):\n",
    "    for j in range(1,i+1):\n",
    "        print(chr(j+64),end=\" \")\n",
    "        \n",
    "    print(\" \")\n",
    "    \n",
    "    "
   ]
  },
  {
   "cell_type": "code",
   "execution_count": 25,
   "id": "9034d146",
   "metadata": {},
   "outputs": [
    {
     "name": "stdout",
     "output_type": "stream",
     "text": [
      "enter no of row5\n",
      "E E E E E  \n",
      "D D D D  \n",
      "C C C  \n",
      "B B  \n",
      "A  \n"
     ]
    }
   ],
   "source": [
    "r=int(input(\"enter no of row\"))\n",
    "for i in range(r,0,-1):\n",
    "    \n",
    "    for j in range(1,i+1):\n",
    "        print(chr(i+64),end=\" \")\n",
    "        \n",
    "    print(\" \")\n",
    "    \n",
    "    "
   ]
  },
  {
   "cell_type": "code",
   "execution_count": 9,
   "id": "3f3c796a",
   "metadata": {},
   "outputs": [
    {
     "name": "stdout",
     "output_type": "stream",
     "text": [
      "enter no of row5\n",
      "1 0 1 1 0 1 0 1 0 1 1 0 1 0 1  \n"
     ]
    }
   ],
   "source": [
    "r=int(input(\"enter no of row\"))\n",
    "for i in range(r,0,-1):\n",
    "    b=b+1\n",
    "    for j in range(1,i+1):\n",
    "        print(b,end=\"\")\n",
    "     print(\"\")   \n",
    "    \n",
    "    "
   ]
  },
  {
   "cell_type": "code",
   "execution_count": 3,
   "id": "5ff88893",
   "metadata": {},
   "outputs": [
    {
     "name": "stdout",
     "output_type": "stream",
     "text": [
      "00000\n"
     ]
    }
   ],
   "source": [
    "print('0'*5)"
   ]
  },
  {
   "cell_type": "code",
   "execution_count": null,
   "id": "c4c32719",
   "metadata": {},
   "outputs": [],
   "source": []
  }
 ],
 "metadata": {
  "kernelspec": {
   "display_name": "Python 3 (ipykernel)",
   "language": "python",
   "name": "python3"
  },
  "language_info": {
   "codemirror_mode": {
    "name": "ipython",
    "version": 3
   },
   "file_extension": ".py",
   "mimetype": "text/x-python",
   "name": "python",
   "nbconvert_exporter": "python",
   "pygments_lexer": "ipython3",
   "version": "3.9.7"
  }
 },
 "nbformat": 4,
 "nbformat_minor": 5
}
