{
 "cells": [
  {
   "cell_type": "markdown",
   "id": "611eb668",
   "metadata": {},
   "source": [
    "# write a program to input marks of 3 subject"
   ]
  },
  {
   "cell_type": "code",
   "execution_count": 2,
   "id": "2deda1eb",
   "metadata": {},
   "outputs": [
    {
     "name": "stdout",
     "output_type": "stream",
     "text": [
      "sub a=1\n",
      "sub b=2\n",
      "sub c=3\n",
      "average marks of students is 2.0\n"
     ]
    }
   ],
   "source": [
    "a=int(input(\"sub a=\"))\n",
    "b=int(input(\"sub b=\"))\n",
    "c=int(input(\"sub c=\"))\n",
    "avg=(a+b+c)/3\n",
    "print(\"average marks of students is\",avg)"
   ]
  },
  {
   "cell_type": "markdown",
   "id": "6055758a",
   "metadata": {},
   "source": [
    "# write a program to find out area and circumference of circle"
   ]
  },
  {
   "cell_type": "code",
   "execution_count": 3,
   "id": "cbbd0e21",
   "metadata": {},
   "outputs": [
    {
     "name": "stdout",
     "output_type": "stream",
     "text": [
      "radius =2\n",
      "area = 12.56\n",
      "circumference = 12.56\n"
     ]
    }
   ],
   "source": [
    "r=int(input(\"radius =\"))\n",
    "print(\"area =\",3.14*r*r)\n",
    "print(\"circumference =\",2*3.14*r)"
   ]
  },
  {
   "cell_type": "markdown",
   "id": "1ceacd7e",
   "metadata": {},
   "source": [
    "# swaping of two variable with help of 3rd variable"
   ]
  },
  {
   "cell_type": "code",
   "execution_count": 6,
   "id": "f2ea76b6",
   "metadata": {},
   "outputs": [
    {
     "name": "stdout",
     "output_type": "stream",
     "text": [
      "a =3\n",
      "b =4\n",
      "a is 4\n",
      "b is 3\n"
     ]
    }
   ],
   "source": [
    "a=int(input(\"a =\"))\n",
    "b=int(input(\"b =\"))\n",
    "c=b\n",
    "b=a\n",
    "a=c\n",
    "print(\"a is\",a)\n",
    "print(\"b is\",b)"
   ]
  },
  {
   "cell_type": "markdown",
   "id": "84803dfc",
   "metadata": {},
   "source": [
    "# swaping without 3rdvariable by arithmatic"
   ]
  },
  {
   "cell_type": "code",
   "execution_count": 2,
   "id": "e50c6243",
   "metadata": {},
   "outputs": [
    {
     "name": "stdout",
     "output_type": "stream",
     "text": [
      "a =1\n",
      "b =2\n",
      "a is 2\n",
      "b is 1\n"
     ]
    }
   ],
   "source": [
    "a=int(input(\"a =\"))\n",
    "b=int(input(\"b =\"))\n",
    "a=a+b\n",
    "b=a-b\n",
    "a=a-b\n",
    "print(\"a is\",a)\n",
    "print(\"b is\",b)"
   ]
  },
  {
   "cell_type": "markdown",
   "id": "d95cb7f6",
   "metadata": {},
   "source": [
    "# celcius to farenhit"
   ]
  },
  {
   "cell_type": "code",
   "execution_count": 6,
   "id": "615a83f6",
   "metadata": {},
   "outputs": [
    {
     "name": "stdout",
     "output_type": "stream",
     "text": [
      "c =5\n",
      "f is  41.0\n"
     ]
    }
   ],
   "source": [
    "\n",
    "c=int(input(\"c =\"))\n",
    "f=(c*9/5)+32\n",
    "print(\"f is \",f)"
   ]
  },
  {
   "cell_type": "code",
   "execution_count": null,
   "id": "01e32c0e",
   "metadata": {},
   "outputs": [],
   "source": []
  }
 ],
 "metadata": {
  "kernelspec": {
   "display_name": "Python 3 (ipykernel)",
   "language": "python",
   "name": "python3"
  },
  "language_info": {
   "codemirror_mode": {
    "name": "ipython",
    "version": 3
   },
   "file_extension": ".py",
   "mimetype": "text/x-python",
   "name": "python",
   "nbconvert_exporter": "python",
   "pygments_lexer": "ipython3",
   "version": "3.7.6"
  }
 },
 "nbformat": 4,
 "nbformat_minor": 5
}
