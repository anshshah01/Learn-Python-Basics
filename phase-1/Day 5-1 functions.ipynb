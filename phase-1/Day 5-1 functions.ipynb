{
 "cells": [
  {
   "cell_type": "markdown",
   "id": "e5bf63a4",
   "metadata": {},
   "source": [
    "# "
   ]
  },
  {
   "cell_type": "code",
   "execution_count": 13,
   "id": "a27783ea",
   "metadata": {},
   "outputs": [],
   "source": [
    "def addition (a,b):\n",
    "    sum=a+b\n",
    "    print(sum)"
   ]
  },
  {
   "cell_type": "code",
   "execution_count": 6,
   "id": "54290fb5",
   "metadata": {},
   "outputs": [
    {
     "name": "stdout",
     "output_type": "stream",
     "text": [
      "10\n"
     ]
    }
   ],
   "source": [
    "addition(4,6)"
   ]
  },
  {
   "cell_type": "code",
   "execution_count": 9,
   "id": "359b5ef5",
   "metadata": {},
   "outputs": [
    {
     "name": "stdout",
     "output_type": "stream",
     "text": [
      "34\n"
     ]
    }
   ],
   "source": [
    "addition(\"3\",\"4\")"
   ]
  },
  {
   "cell_type": "code",
   "execution_count": 10,
   "id": "1afddbc0",
   "metadata": {},
   "outputs": [
    {
     "ename": "TypeError",
     "evalue": "addition() takes 2 positional arguments but 3 were given",
     "output_type": "error",
     "traceback": [
      "\u001b[1;31m---------------------------------------------------------------------------\u001b[0m",
      "\u001b[1;31mTypeError\u001b[0m                                 Traceback (most recent call last)",
      "\u001b[1;32m~\\AppData\\Local\\Temp/ipykernel_10696/3242710679.py\u001b[0m in \u001b[0;36m<module>\u001b[1;34m\u001b[0m\n\u001b[1;32m----> 1\u001b[1;33m \u001b[0maddition\u001b[0m\u001b[1;33m(\u001b[0m\u001b[1;36m5\u001b[0m\u001b[1;33m,\u001b[0m\u001b[1;36m10\u001b[0m\u001b[1;33m,\u001b[0m\u001b[1;36m3\u001b[0m\u001b[1;33m)\u001b[0m\u001b[1;33m\u001b[0m\u001b[1;33m\u001b[0m\u001b[0m\n\u001b[0m",
      "\u001b[1;31mTypeError\u001b[0m: addition() takes 2 positional arguments but 3 were given"
     ]
    }
   ],
   "source": [
    "addition(5,10,3)"
   ]
  },
  {
   "cell_type": "code",
   "execution_count": null,
   "id": "7e91b9c6",
   "metadata": {},
   "outputs": [],
   "source": [
    "# *star argument/arbitory argument"
   ]
  },
  {
   "cell_type": "code",
   "execution_count": 1,
   "id": "7262e3c0",
   "metadata": {},
   "outputs": [],
   "source": [
    "def addition (*arg):\n",
    "    print(arg[1])\n",
    "    arg=[\"ab\",\"cd\",\"ef\"]"
   ]
  },
  {
   "cell_type": "code",
   "execution_count": 28,
   "id": "804e57b5",
   "metadata": {},
   "outputs": [
    {
     "name": "stdout",
     "output_type": "stream",
     "text": [
      "My name is ansh a shah\n"
     ]
    }
   ],
   "source": [
    "def print_name(first_name,middle_name,last_name):\n",
    "    print(\"My name is\",first_name,middle_name,last_name)\n",
    "print_name('ansh','a','shah')"
   ]
  },
  {
   "cell_type": "code",
   "execution_count": 25,
   "id": "2095d9f3",
   "metadata": {},
   "outputs": [
    {
     "name": "stdout",
     "output_type": "stream",
     "text": [
      "My name is ansh a shah\n"
     ]
    }
   ],
   "source": [
    "print_name(last_name=\"shah\",first_name=\"ansh\",middle_name=\"a\")\n"
   ]
  },
  {
   "cell_type": "code",
   "execution_count": null,
   "id": "cbee4cf1",
   "metadata": {},
   "outputs": [],
   "source": [
    "#double arbitory argument"
   ]
  },
  {
   "cell_type": "code",
   "execution_count": 27,
   "id": "c6f05347",
   "metadata": {},
   "outputs": [],
   "source": [
    "def print_name(**arg):\n",
    "    print_name=(first_name,middle_name,last_name)\n",
    "    print(arg[first_name])\n",
    "    "
   ]
  },
  {
   "cell_type": "code",
   "execution_count": 34,
   "id": "c7820c56",
   "metadata": {},
   "outputs": [],
   "source": []
  },
  {
   "cell_type": "code",
   "execution_count": 48,
   "id": "69efec6c",
   "metadata": {},
   "outputs": [],
   "source": [
    "def name(*arg):\n",
    "    print(*arg())"
   ]
  },
  {
   "cell_type": "code",
   "execution_count": 40,
   "id": "752b4339",
   "metadata": {},
   "outputs": [
    {
     "name": "stdout",
     "output_type": "stream",
     "text": [
      "\n"
     ]
    }
   ],
   "source": [
    "print()"
   ]
  },
  {
   "cell_type": "code",
   "execution_count": 50,
   "id": "d44a86f6",
   "metadata": {},
   "outputs": [
    {
     "ename": "NameError",
     "evalue": "name 'first_name' is not defined",
     "output_type": "error",
     "traceback": [
      "\u001b[1;31m---------------------------------------------------------------------------\u001b[0m",
      "\u001b[1;31mNameError\u001b[0m                                 Traceback (most recent call last)",
      "\u001b[1;32m~\\AppData\\Local\\Temp/ipykernel_10696/693385835.py\u001b[0m in \u001b[0;36m<module>\u001b[1;34m\u001b[0m\n\u001b[0;32m      1\u001b[0m \u001b[1;32mdef\u001b[0m \u001b[0mprint_name\u001b[0m\u001b[1;33m(\u001b[0m\u001b[0mfirst_name\u001b[0m\u001b[1;33m)\u001b[0m\u001b[1;33m:\u001b[0m\u001b[1;33m\u001b[0m\u001b[1;33m\u001b[0m\u001b[0m\n\u001b[0;32m      2\u001b[0m     \u001b[0mprint_name\u001b[0m\u001b[1;33m(\u001b[0m\u001b[0mfirst_name\u001b[0m\u001b[1;33m)\u001b[0m\u001b[1;33m\u001b[0m\u001b[1;33m\u001b[0m\u001b[0m\n\u001b[1;32m----> 3\u001b[1;33m \u001b[0mprint\u001b[0m\u001b[1;33m(\u001b[0m\u001b[0mfirst_name\u001b[0m\u001b[1;33m)\u001b[0m\u001b[1;33m\u001b[0m\u001b[1;33m\u001b[0m\u001b[0m\n\u001b[0m",
      "\u001b[1;31mNameError\u001b[0m: name 'first_name' is not defined"
     ]
    }
   ],
   "source": [
    "def print_name(first_name):\n",
    "    print_name(first_name)\n",
    "print(first_name)"
   ]
  },
  {
   "cell_type": "code",
   "execution_count": 54,
   "id": "ba2cbcda",
   "metadata": {},
   "outputs": [],
   "source": [
    "def print_name(first_name='abc'):\n",
    "   \n",
    "    print(first_name)"
   ]
  },
  {
   "cell_type": "code",
   "execution_count": 57,
   "id": "c258aef5",
   "metadata": {},
   "outputs": [
    {
     "data": {
      "text/plain": [
       "11"
      ]
     },
     "execution_count": 57,
     "metadata": {},
     "output_type": "execute_result"
    }
   ],
   "source": [
    "def addition (a,b):\n",
    "    sum=a+b\n",
    "    return(sum)\n",
    "addition(5,6)"
   ]
  },
  {
   "cell_type": "code",
   "execution_count": null,
   "id": "7112970e",
   "metadata": {},
   "outputs": [],
   "source": []
  },
  {
   "cell_type": "code",
   "execution_count": null,
   "id": "bf44e350",
   "metadata": {},
   "outputs": [],
   "source": [
    "# write a function to return 1 if the number is even and return 0 if the numer is odd."
   ]
  },
  {
   "cell_type": "code",
   "execution_count": 65,
   "id": "a49cce1c",
   "metadata": {},
   "outputs": [],
   "source": [
    "\n",
    "def even_odd(n):\n",
    "    if (n%2==0):\n",
    "        return 1\n",
    "    else:\n",
    "        return 0\n",
    "        \n",
    "\n",
    "\n"
   ]
  },
  {
   "cell_type": "code",
   "execution_count": 63,
   "id": "b291d126",
   "metadata": {},
   "outputs": [
    {
     "name": "stdout",
     "output_type": "stream",
     "text": [
      "8\n"
     ]
    },
    {
     "data": {
      "text/plain": [
       "1"
      ]
     },
     "execution_count": 63,
     "metadata": {},
     "output_type": "execute_result"
    }
   ],
   "source": [
    "n=int(input())\n",
    "even_odd(n)"
   ]
  },
  {
   "cell_type": "code",
   "execution_count": 70,
   "id": "29ef08c9",
   "metadata": {},
   "outputs": [
    {
     "name": "stdout",
     "output_type": "stream",
     "text": [
      "enter the number : 52\n",
      "even\n"
     ]
    }
   ],
   "source": [
    "n=int(input(\"enter the number : \"))\n",
    "ans=even_odd(n)\n",
    "if(ans==1):\n",
    "    print(\"even\")\n",
    "else:\n",
    "    print(\"odd\")"
   ]
  },
  {
   "cell_type": "code",
   "execution_count": 72,
   "id": "c5b08491",
   "metadata": {},
   "outputs": [],
   "source": [
    "# list print by function"
   ]
  },
  {
   "cell_type": "code",
   "execution_count": 99,
   "id": "50351c3f",
   "metadata": {},
   "outputs": [],
   "source": [
    "def unique_list(l):\n",
    "    new=[]\n",
    "    for i in l:\n",
    "        if i not in new:\n",
    "            new.append(i)\n",
    "    return new\n",
    "\n",
    "\n",
    "\n",
    "    "
   ]
  },
  {
   "cell_type": "code",
   "execution_count": 100,
   "id": "57722baa",
   "metadata": {},
   "outputs": [
    {
     "data": {
      "text/plain": [
       "[1, 5, 3]"
      ]
     },
     "execution_count": 100,
     "metadata": {},
     "output_type": "execute_result"
    }
   ],
   "source": [
    "list1=(1,5,1,3)\n",
    "unique_list(list1)\n"
   ]
  },
  {
   "cell_type": "code",
   "execution_count": null,
   "id": "7b3b0110",
   "metadata": {},
   "outputs": [],
   "source": [
    "# for get user value in list"
   ]
  },
  {
   "cell_type": "code",
   "execution_count": 107,
   "id": "3c038bab",
   "metadata": {},
   "outputs": [
    {
     "name": "stdout",
     "output_type": "stream",
     "text": [
      "no. of elements4\n",
      "enter element: 1\n",
      "enter element: 2\n",
      "enter element: 1\n",
      "enter element: 3\n",
      "[1, 2, 1, 3]\n"
     ]
    },
    {
     "data": {
      "text/plain": [
       "[1, 2, 3]"
      ]
     },
     "execution_count": 107,
     "metadata": {},
     "output_type": "execute_result"
    }
   ],
   "source": [
    "list=[]\n",
    "a=int(input(\"no. of elements\"))\n",
    "for i in range(0,a):\n",
    "    ele=int(input(\"enter element: \"))\n",
    "    list.append(ele)\n",
    "print(list)\n",
    "unique_list(list)\n",
    "    \n",
    "    \n",
    "    \n"
   ]
  },
  {
   "cell_type": "code",
   "execution_count": null,
   "id": "4dce49e7",
   "metadata": {},
   "outputs": [],
   "source": []
  }
 ],
 "metadata": {
  "kernelspec": {
   "display_name": "Python 3 (ipykernel)",
   "language": "python",
   "name": "python3"
  },
  "language_info": {
   "codemirror_mode": {
    "name": "ipython",
    "version": 3
   },
   "file_extension": ".py",
   "mimetype": "text/x-python",
   "name": "python",
   "nbconvert_exporter": "python",
   "pygments_lexer": "ipython3",
   "version": "3.7.6"
  }
 },
 "nbformat": 4,
 "nbformat_minor": 5
}
