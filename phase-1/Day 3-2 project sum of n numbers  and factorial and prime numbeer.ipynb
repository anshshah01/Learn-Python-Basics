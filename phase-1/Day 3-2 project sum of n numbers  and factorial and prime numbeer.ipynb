{
 "cells": [
  {
   "cell_type": "markdown",
   "id": "d5a2af87",
   "metadata": {},
   "source": [
    "# sum of 1 to 10 numbers"
   ]
  },
  {
   "cell_type": "code",
   "execution_count": 3,
   "id": "060c9b62",
   "metadata": {},
   "outputs": [
    {
     "name": "stdout",
     "output_type": "stream",
     "text": [
      "1\n",
      "3\n",
      "6\n",
      "10\n",
      "15\n",
      "21\n",
      "28\n",
      "36\n",
      "45\n",
      "55\n"
     ]
    }
   ],
   "source": [
    "sum=0\n",
    "for i in range (1,11):\n",
    "    sum=sum+i\n",
    "    print(sum)"
   ]
  },
  {
   "cell_type": "code",
   "execution_count": 4,
   "id": "ba395143",
   "metadata": {},
   "outputs": [
    {
     "name": "stdout",
     "output_type": "stream",
     "text": [
      "55\n"
     ]
    }
   ],
   "source": [
    "sum=0\n",
    "for i in range (1,11):\n",
    "    sum=sum+i\n",
    "print(sum)"
   ]
  },
  {
   "cell_type": "code",
   "execution_count": 10,
   "id": "fdce7fae",
   "metadata": {},
   "outputs": [
    {
     "name": "stdout",
     "output_type": "stream",
     "text": [
      "n=5\n",
      "sum of n numbers 15\n"
     ]
    }
   ],
   "source": [
    "n=int(input(\"n=\"))\n",
    "sum=0\n",
    "\n",
    "for i in range (1,n+1):\n",
    "    sum=sum+i\n",
    "print(\"sum of n numbers\",sum)"
   ]
  },
  {
   "cell_type": "markdown",
   "id": "41d6c49b",
   "metadata": {},
   "source": [
    "# factorial of a given number"
   ]
  },
  {
   "cell_type": "code",
   "execution_count": 17,
   "id": "61af7664",
   "metadata": {},
   "outputs": [
    {
     "name": "stdout",
     "output_type": "stream",
     "text": [
      "n=3\n",
      "6\n"
     ]
    }
   ],
   "source": [
    "n=int(input(\"n=\"))\n",
    "factorial=1\n",
    "for i in range (1,1+n):\n",
    "    factorial=factorial*i\n",
    "print(factorial)"
   ]
  },
  {
   "cell_type": "markdown",
   "id": "b8a091a6",
   "metadata": {},
   "source": [
    "# number is prime or not"
   ]
  },
  {
   "cell_type": "code",
   "execution_count": 32,
   "id": "4077188f",
   "metadata": {},
   "outputs": [
    {
     "name": "stdout",
     "output_type": "stream",
     "text": [
      "n=45\n",
      "prime\n",
      "not prime\n"
     ]
    }
   ],
   "source": [
    "n=int(input(\"n=\"))\n",
    "for i in range (2,n):\n",
    "    if (n%i==0):\n",
    "        print(\"not prime\")\n",
    "        break\n",
    "    else:\n",
    "        print(\"prime\")\n",
    "        \n"
   ]
  },
  {
   "cell_type": "code",
   "execution_count": 9,
   "id": "1b0de51b",
   "metadata": {},
   "outputs": [
    {
     "name": "stdout",
     "output_type": "stream",
     "text": [
      "n=9\n",
      "no is not prime\n"
     ]
    }
   ],
   "source": [
    "n=int(input(\"n=\"))\n",
    "flag=0\n",
    "for i in range (2,n):\n",
    "    if (n%i==0):\n",
    "        flag=0\n",
    "        break\n",
    "    else:\n",
    "        flag=1\n",
    "if(flag==1):\n",
    "        print(\"no is prime\")\n",
    "else:\n",
    "    print(\"no is not prime\")\n",
    "        \n",
    "        \n"
   ]
  }
 ],
 "metadata": {
  "kernelspec": {
   "display_name": "Python 3 (ipykernel)",
   "language": "python",
   "name": "python3"
  },
  "language_info": {
   "codemirror_mode": {
    "name": "ipython",
    "version": 3
   },
   "file_extension": ".py",
   "mimetype": "text/x-python",
   "name": "python",
   "nbconvert_exporter": "python",
   "pygments_lexer": "ipython3",
   "version": "3.7.6"
  }
 },
 "nbformat": 4,
 "nbformat_minor": 5
}
