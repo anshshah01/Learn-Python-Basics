{
 "cells": [
  {
   "cell_type": "markdown",
   "id": "0cc61f21",
   "metadata": {},
   "source": [
    "# prime number between the interval"
   ]
  },
  {
   "cell_type": "code",
   "execution_count": 8,
   "id": "e9873aaa",
   "metadata": {},
   "outputs": [
    {
     "name": "stdout",
     "output_type": "stream",
     "text": [
      "s=1\n",
      "e=10\n",
      "3\n",
      "5\n",
      "7\n",
      "9\n"
     ]
    }
   ],
   "source": [
    "s=int(input(\"s=\"))\n",
    "e=int(input(\"e=\"))\n",
    "\n",
    "for i in range(s,e+1):\n",
    "    flag=0\n",
    "    for j in range (2,i):\n",
    "        if(i%j==0):\n",
    "            break\n",
    "        else:\n",
    "            flag=1\n",
    "    if(flag==1):\n",
    "        print(i)\n",
    "\n",
    "\n",
    "        \n",
    "        \n",
    "        \n",
    "        \n",
    "        \n"
   ]
  },
  {
   "cell_type": "code",
   "execution_count": 9,
   "id": "56425271",
   "metadata": {},
   "outputs": [
    {
     "name": "stdout",
     "output_type": "stream",
     "text": [
      "s=1\n",
      "e=10\n",
      "3\n",
      "5\n",
      "7\n"
     ]
    }
   ],
   "source": [
    "s=int(input(\"s=\"))\n",
    "e=int(input(\"e=\"))\n",
    "\n",
    "for i in range(s,e+1):\n",
    "    flag=0\n",
    "    for j in range (2,i):\n",
    "        if(i%j==0):\n",
    "            flag=0\n",
    "            break\n",
    "        else:\n",
    "            flag=1\n",
    "    if(flag==1):\n",
    "        print(i)\n",
    "\n",
    "\n",
    "        \n",
    "        \n",
    "        \n",
    "        \n",
    "        \n"
   ]
  },
  {
   "cell_type": "code",
   "execution_count": null,
   "id": "31087dff",
   "metadata": {},
   "outputs": [],
   "source": []
  }
 ],
 "metadata": {
  "kernelspec": {
   "display_name": "Python 3 (ipykernel)",
   "language": "python",
   "name": "python3"
  },
  "language_info": {
   "codemirror_mode": {
    "name": "ipython",
    "version": 3
   },
   "file_extension": ".py",
   "mimetype": "text/x-python",
   "name": "python",
   "nbconvert_exporter": "python",
   "pygments_lexer": "ipython3",
   "version": "3.7.6"
  }
 },
 "nbformat": 4,
 "nbformat_minor": 5
}
