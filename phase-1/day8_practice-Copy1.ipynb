{
 "cells": [
  {
   "cell_type": "code",
   "execution_count": 2,
   "id": "6ef34a58",
   "metadata": {},
   "outputs": [
    {
     "name": "stdout",
     "output_type": "stream",
     "text": [
      "Enter n : 3\n",
      "14\n"
     ]
    }
   ],
   "source": [
    "# sum of squares of first n natural numbers\n",
    "n = int(input(\"Enter n : \"))\n",
    "sum1 = 0\n",
    "for i in range(1,n+1):\n",
    "    sum1 = sum1+((i)**2)\n",
    "print(sum1)"
   ]
  },
  {
   "cell_type": "code",
   "execution_count": 12,
   "id": "15788f57",
   "metadata": {},
   "outputs": [
    {
     "name": "stdout",
     "output_type": "stream",
     "text": [
      "Enter sentence : hello my name is aniket\n",
      "length = 5\n",
      "aniket\n"
     ]
    }
   ],
   "source": [
    "s = input(\"Enter sentence : \")\n",
    "length = int(input(\"length = \"))\n",
    "l = s.split(\" \")\n",
    "for i in l:\n",
    "    if len(i)>length:\n",
    "        print(i)"
   ]
  },
  {
   "cell_type": "code",
   "execution_count": 1,
   "id": "26b497a4",
   "metadata": {},
   "outputs": [
    {
     "name": "stdout",
     "output_type": "stream",
     "text": [
      "How many elements in list 1: 3\n",
      "1\n",
      "2\n",
      "3\n",
      "How many elements in list 2 : 3\n",
      "4\n",
      "5\n",
      "6\n",
      "['1', '2', '3', '4', '5', '6']\n"
     ]
    }
   ],
   "source": [
    "element1 = int(input(\"How many elements in list 1: \"))\n",
    "list1 = []\n",
    "\n",
    "for i in range(element1):\n",
    "    a = input()\n",
    "    list1.append(a)\n",
    "    \n",
    "element2 = int(input(\"How many elements in list 2 : \"))\n",
    "list2 = []\n",
    "for j in range(element2):\n",
    "    a = input()\n",
    "    list2.append(a)\n",
    "for k in list2:\n",
    "    list1.append(k)\n",
    "print(list1)"
   ]
  },
  {
   "cell_type": "code",
   "execution_count": 1,
   "id": "0e42eafc",
   "metadata": {},
   "outputs": [
    {
     "name": "stdout",
     "output_type": "stream",
     "text": [
      "['hi', 'how', 'hello', 1, 2, 3]\n"
     ]
    }
   ],
   "source": [
    "l1 = ['hi','how','hello']\n",
    "l2 = [1,2,3]\n",
    "for i in l2:\n",
    "    l1.append(i)\n",
    "print(l1)"
   ]
  },
  {
   "cell_type": "code",
   "execution_count": 10,
   "id": "d6a26ef9",
   "metadata": {},
   "outputs": [
    {
     "name": "stdout",
     "output_type": "stream",
     "text": [
      "5\n",
      "0,1,1,2,3,"
     ]
    }
   ],
   "source": [
    "n = int(input(\"n = \"))\n",
    "n1=0\n",
    "n2=1\n",
    "print(n1,end=',')\n",
    "print(n2,end=',')\n",
    "for i in range(n-2):\n",
    "    sum = n1+n2\n",
    "    print(sum,end=\",\")\n",
    "    n1=n2\n",
    "    n2=sum\n",
    "    "
   ]
  },
  {
   "cell_type": "code",
   "execution_count": null,
   "id": "59864a4a",
   "metadata": {},
   "outputs": [],
   "source": []
  }
 ],
 "metadata": {
  "kernelspec": {
   "display_name": "Python 3 (ipykernel)",
   "language": "python",
   "name": "python3"
  },
  "language_info": {
   "codemirror_mode": {
    "name": "ipython",
    "version": 3
   },
   "file_extension": ".py",
   "mimetype": "text/x-python",
   "name": "python",
   "nbconvert_exporter": "python",
   "pygments_lexer": "ipython3",
   "version": "3.7.6"
  }
 },
 "nbformat": 4,
 "nbformat_minor": 5
}
