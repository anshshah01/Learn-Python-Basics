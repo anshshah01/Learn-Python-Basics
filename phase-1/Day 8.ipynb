{
 "cells": [
  {
   "cell_type": "code",
   "execution_count": null,
   "id": "4fd5d69f",
   "metadata": {},
   "outputs": [],
   "source": [
    "#program for sum of square of first 10 numbers"
   ]
  },
  {
   "cell_type": "code",
   "execution_count": 1,
   "id": "6e90498b",
   "metadata": {},
   "outputs": [
    {
     "name": "stdout",
     "output_type": "stream",
     "text": [
      "enter the value of n=3\n",
      "sum of square of  3 numebrs is  14\n"
     ]
    }
   ],
   "source": [
    "n=int(input(\"enter the value of n=\"))\n",
    "sum=0\n",
    "for i in range(1,n+1):\n",
    "    sum=sum+i**2\n",
    "print(\"sum of square of \",n,\"numebrs is \", sum)"
   ]
  },
  {
   "cell_type": "code",
   "execution_count": null,
   "id": "929c9528",
   "metadata": {},
   "outputs": [],
   "source": [
    "#find words which are greater thangiven length k \n"
   ]
  },
  {
   "cell_type": "code",
   "execution_count": 16,
   "id": "c3309adc",
   "metadata": {},
   "outputs": [
    {
     "name": "stdout",
     "output_type": "stream",
     "text": [
      "enter sentence m,y name is\n",
      "enter min length of words2\n",
      "m,y\n",
      "name\n"
     ]
    }
   ],
   "source": [
    "s=input(\"enter sentence \")\n",
    "k=int(input(\"enter min length of words\"))\n",
    "a=s.split(\" \")\n",
    "for i in a:\n",
    "    if (len(i)>k):\n",
    "        print(i)"
   ]
  },
  {
   "cell_type": "code",
   "execution_count": null,
   "id": "edeed275",
   "metadata": {},
   "outputs": [],
   "source": [
    "#write a progaram to take 2 lists from user and join them.after joining the list make a copy of that list in third list"
   ]
  },
  {
   "cell_type": "code",
   "execution_count": 1,
   "id": "3208e240",
   "metadata": {},
   "outputs": [
    {
     "name": "stdout",
     "output_type": "stream",
     "text": [
      "no. of elements3\n",
      "enter element: 2\n",
      "enter element: 2\n",
      "enter element: 65\n",
      "[2, 2, 65]\n",
      "no. of elements5\n",
      "enter element: 1\n",
      "enter element: 2\n",
      "enter element: 6\n",
      "enter element: 58\n",
      "enter element: 5\n",
      "[2, 2, 65, 1, 2, 6, 58, 5]\n"
     ]
    }
   ],
   "source": [
    "list1=[]\n",
    "a=int(input(\"no. of elements\"))\n",
    "for i in range(0,a):\n",
    "    ele=int(input(\"enter element: \"))\n",
    "    list1.append(ele)\n",
    "print(list1)\n",
    "\n",
    "list2=[]\n",
    "b=int(input(\"no. of elements\"))\n",
    "for i in range(0,b):\n",
    "    ele=int(input(\"enter element: \"))\n",
    "    list1.append(ele)\n",
    "print(list1)"
   ]
  },
  {
   "cell_type": "code",
   "execution_count": 1,
   "id": "3035ed06",
   "metadata": {},
   "outputs": [
    {
     "name": "stdout",
     "output_type": "stream",
     "text": [
      "no. of elements2\n",
      "enter element: 65\n",
      "enter element: 6985\n",
      "list1= [65, 6985]\n",
      " \n",
      "no. of elements3\n",
      "enter element: 564\n",
      "enter element: 632\n",
      "enter element: 213\n",
      "list2= [564, 632, 213]\n",
      " \n",
      "now list3 [65, 6985, 564, 632, 213]\n"
     ]
    }
   ],
   "source": [
    "list1=[]\n",
    "a=int(input(\"no. of elements\"))\n",
    "for i in range(0,a):\n",
    "    ele=int(input(\"enter element: \"))\n",
    "    list1.append(ele)\n",
    "print(\"list1=\",list1)\n",
    "\n",
    "print(\" \")\n",
    "\n",
    "list2=[]\n",
    "b=int(input(\"no. of elements\"))\n",
    "for i in range(0,b):\n",
    "    ele=int(input(\"enter element: \"))\n",
    "    list2.append(ele)\n",
    "    list3=list1+list2\n",
    "print(\"list2=\",list2)\n",
    "print(\" \")\n",
    "print(\"now list3=\",list3)"
   ]
  },
  {
   "cell_type": "code",
   "execution_count": null,
   "id": "c73eb5c6",
   "metadata": {},
   "outputs": [],
   "source": []
  },
  {
   "cell_type": "code",
   "execution_count": null,
   "id": "0a5fd8a9",
   "metadata": {},
   "outputs": [],
   "source": []
  }
 ],
 "metadata": {
  "kernelspec": {
   "display_name": "Python 3 (ipykernel)",
   "language": "python",
   "name": "python3"
  },
  "language_info": {
   "codemirror_mode": {
    "name": "ipython",
    "version": 3
   },
   "file_extension": ".py",
   "mimetype": "text/x-python",
   "name": "python",
   "nbconvert_exporter": "python",
   "pygments_lexer": "ipython3",
   "version": "3.7.6"
  }
 },
 "nbformat": 4,
 "nbformat_minor": 5
}
