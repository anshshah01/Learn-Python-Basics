{
 "cells": [
  {
   "cell_type": "code",
   "execution_count": 7,
   "id": "8589cab3",
   "metadata": {},
   "outputs": [
    {
     "data": {
      "text/plain": [
       "'hi hello'"
      ]
     },
     "execution_count": 7,
     "metadata": {},
     "output_type": "execute_result"
    }
   ],
   "source": [
    "str=\" hi hello \"\n",
    "len(str)\n",
    "\n",
    "str.strip()\n"
   ]
  },
  {
   "cell_type": "code",
   "execution_count": null,
   "id": "2c3a08de",
   "metadata": {},
   "outputs": [],
   "source": [
    "#lower or upper case"
   ]
  },
  {
   "cell_type": "code",
   "execution_count": 12,
   "id": "e3af7f14",
   "metadata": {},
   "outputs": [
    {
     "data": {
      "text/plain": [
       "' HI HELLO '"
      ]
     },
     "execution_count": 12,
     "metadata": {},
     "output_type": "execute_result"
    }
   ],
   "source": [
    "str=\" hi hello \"\n",
    "str.upper()"
   ]
  },
  {
   "cell_type": "code",
   "execution_count": 11,
   "id": "29209ff8",
   "metadata": {},
   "outputs": [
    {
     "name": "stdout",
     "output_type": "stream",
     "text": [
      " hi hello \n"
     ]
    }
   ],
   "source": [
    "str=\" hi hello \"\n",
    "str.upper()\n",
    "print(str)"
   ]
  },
  {
   "cell_type": "code",
   "execution_count": 14,
   "id": "f045fe1f",
   "metadata": {},
   "outputs": [
    {
     "data": {
      "text/plain": [
       "' hello hello '"
      ]
     },
     "execution_count": 14,
     "metadata": {},
     "output_type": "execute_result"
    }
   ],
   "source": [
    "str=\" hi hello \"\n",
    "str.replace(\"hi\",\"hello\")"
   ]
  },
  {
   "cell_type": "code",
   "execution_count": 15,
   "id": "5d6ded9f",
   "metadata": {},
   "outputs": [
    {
     "data": {
      "text/plain": [
       "['hi', 'hello']"
      ]
     },
     "execution_count": 15,
     "metadata": {},
     "output_type": "execute_result"
    }
   ],
   "source": [
    "str=\" hi hello \"\n",
    "str.split()"
   ]
  },
  {
   "cell_type": "code",
   "execution_count": 22,
   "id": "4baf8f59",
   "metadata": {},
   "outputs": [
    {
     "name": "stdout",
     "output_type": "stream",
     "text": [
      "e\n",
      "hi,h\n"
     ]
    }
   ],
   "source": [
    "str=\" hi,hello \"\n",
    "str.split(\",\") \n",
    "print(str[5])\n",
    "print(str[1:5])"
   ]
  },
  {
   "cell_type": "code",
   "execution_count": 25,
   "id": "5dc263ea",
   "metadata": {},
   "outputs": [
    {
     "data": {
      "text/plain": [
       "' hiabc'"
      ]
     },
     "execution_count": 25,
     "metadata": {},
     "output_type": "execute_result"
    }
   ],
   "source": [
    "str1=\" hi\"\n",
    "str2=\"abc\"\n",
    "str1+str2"
   ]
  },
  {
   "cell_type": "markdown",
   "id": "ee77ab55",
   "metadata": {},
   "source": [
    "# program to reverse the string"
   ]
  },
  {
   "cell_type": "code",
   "execution_count": 28,
   "id": "a3c3c063",
   "metadata": {},
   "outputs": [
    {
     "data": {
      "text/plain": [
       "16"
      ]
     },
     "execution_count": 28,
     "metadata": {},
     "output_type": "execute_result"
    }
   ],
   "source": [
    "str=\"My name is Ansh.\"\n",
    "len(str)"
   ]
  },
  {
   "cell_type": "code",
   "execution_count": 5,
   "id": "1133acd8",
   "metadata": {},
   "outputs": [
    {
     "name": "stdout",
     "output_type": "stream",
     "text": [
      "5\n",
      ".hsnA\n"
     ]
    }
   ],
   "source": [
    "str=\"Ansh.\"\n",
    "a=len(str)\n",
    "print(a)\n",
    "print(str[-1::-1])\n"
   ]
  },
  {
   "cell_type": "code",
   "execution_count": 22,
   "id": "c33ef714",
   "metadata": {},
   "outputs": [
    {
     "name": "stdout",
     "output_type": "stream",
     "text": [
      "enter any String 658431\n",
      "reverse is 134856\n"
     ]
    }
   ],
   "source": [
    "str=input(\"enter any String \")\n",
    "a=len(str)\n",
    "rev=\"\"\n",
    "for i in range(a-1,-1,-1):\n",
    "    rev=rev+str[i]\n",
    "print(\"reverse is\",rev)"
   ]
  },
  {
   "cell_type": "code",
   "execution_count": null,
   "id": "6ddfcfde",
   "metadata": {},
   "outputs": [],
   "source": [
    "# string is pallindrone or not(pallindrone means reverse of given string=given string )"
   ]
  },
  {
   "cell_type": "code",
   "execution_count": 24,
   "id": "e30f41a4",
   "metadata": {},
   "outputs": [
    {
     "name": "stdout",
     "output_type": "stream",
     "text": [
      "enter any String 4554\n",
      "4554\n",
      "string is pallindrone.\n"
     ]
    }
   ],
   "source": [
    "str=input(\"enter any String \")\n",
    "a=len(str)\n",
    "rev=\"\"\n",
    "for i in range(a-1,-1,-1):\n",
    "    rev=rev+str[i]\n",
    "    \n",
    "print(rev)\n",
    "if(str==rev):\n",
    "    print(\"string is pallindrone.\")\n",
    "else:\n",
    "    print(\"string is not pallindrone\")"
   ]
  },
  {
   "cell_type": "code",
   "execution_count": 25,
   "id": "22d9a1d3",
   "metadata": {},
   "outputs": [],
   "source": [
    "#find out occurance of particular character in  string"
   ]
  },
  {
   "cell_type": "code",
   "execution_count": 31,
   "id": "05c093ab",
   "metadata": {},
   "outputs": [
    {
     "name": "stdout",
     "output_type": "stream",
     "text": [
      "enter any string hello\n",
      "enter charl\n",
      "frequency of l is 2\n"
     ]
    }
   ],
   "source": [
    "str=input(\"enter any string \")\n",
    "l=len(str)\n",
    "a=input(\"enter character\")\n",
    "s=0\n",
    "for i in range(l):\n",
    "    if a in str[i]:\n",
    "        s=s+1\n",
    "print(\"frequency of\",a,\"is\",s)\n",
    "        "
   ]
  },
  {
   "cell_type": "code",
   "execution_count": null,
   "id": "6f47be84",
   "metadata": {},
   "outputs": [],
   "source": [
    "#find out num of words in given sentence"
   ]
  },
  {
   "cell_type": "code",
   "execution_count": 34,
   "id": "9beeba36",
   "metadata": {},
   "outputs": [
    {
     "name": "stdout",
     "output_type": "stream",
     "text": [
      "enter any string: my name is ansh\n",
      "words in given sentence are 4\n"
     ]
    }
   ],
   "source": [
    "str=input(\"enter any string: \")\n",
    "l=len(str)\n",
    "a=\" \"\n",
    "s=0\n",
    "for i in range(l):\n",
    "    if a in str[i]:\n",
    "        s=s+1\n",
    "print(\"words in given sentence are\",s+1)\n",
    "        "
   ]
  },
  {
   "cell_type": "code",
   "execution_count": 37,
   "id": "e9ae97c6",
   "metadata": {},
   "outputs": [
    {
     "name": "stdout",
     "output_type": "stream",
     "text": [
      "enter any string: my name is ansh\n",
      "number of words in sentence are 4\n"
     ]
    }
   ],
   "source": [
    "str=input(\"enter any string: \")\n",
    "l=len(str)\n",
    "str=str.strip()\n",
    "a=str.split(\" \") \n",
    "s=1\n",
    "for i in range(l):\n",
    "    if \" \" in str[i]:\n",
    "        s=s+1\n",
    "print(\"number of words in sentence are\",s)\n",
    "        "
   ]
  },
  {
   "cell_type": "markdown",
   "id": "945b2cf5",
   "metadata": {},
   "source": [
    "# patterns "
   ]
  },
  {
   "cell_type": "code",
   "execution_count": 47,
   "id": "1bb142cc",
   "metadata": {},
   "outputs": [
    {
     "name": "stdout",
     "output_type": "stream",
     "text": [
      "enter no of row5\n",
      "1 \n",
      "0 1 \n",
      "1 0 1 \n",
      "0 1 0 1 \n",
      "1 0 1 0 1 \n"
     ]
    }
   ],
   "source": [
    "r=int(input(\"enter no of row\"))\n",
    "for i in range(1,r+1):\n",
    "    for j in range(i,i+i):\n",
    "        print(j%2,end=\" \")\n",
    "    print()   \n",
    "    \n",
    "    "
   ]
  },
  {
   "cell_type": "code",
   "execution_count": 46,
   "id": "dfe8572a",
   "metadata": {},
   "outputs": [
    {
     "name": "stdout",
     "output_type": "stream",
     "text": [
      "enter no of row5\n",
      " \n",
      "1  \n",
      "0 1  \n",
      "1 0 1  \n",
      "0 1 0 1  \n"
     ]
    }
   ],
   "source": [
    "r=int(input(\"enter no of row\"))\n",
    "for i in range(r):\n",
    "    for j in range(i,i+i):\n",
    "        print(j%2,end=\" \")\n",
    "    print(\" \")   "
   ]
  },
  {
   "cell_type": "code",
   "execution_count": 48,
   "id": "c17ebdbf",
   "metadata": {},
   "outputs": [
    {
     "name": "stdout",
     "output_type": "stream",
     "text": [
      "enter no of row5\n",
      " \n",
      "1  \n",
      "0 0  \n",
      "1 1 1  \n",
      "0 0 0 0  \n"
     ]
    }
   ],
   "source": [
    "r=int(input(\"enter no of row\"))\n",
    "for i in range(r):\n",
    "    for j in range(1,i+1):\n",
    "        print(i%2,end=\" \")\n",
    "        \n",
    "    print(\" \")\n",
    "    \n",
    "    "
   ]
  },
  {
   "cell_type": "code",
   "execution_count": 51,
   "id": "74c41af4",
   "metadata": {},
   "outputs": [
    {
     "name": "stdout",
     "output_type": "stream",
     "text": [
      "enter no of row5\n",
      " \n",
      "1  \n",
      "0 0  \n",
      "1 1 1  \n",
      "0 0 0 0  \n"
     ]
    }
   ],
   "source": [
    "r=int(input(\"enter no of row\"))\n",
    "for i in range(0,r):\n",
    "    for j in range(1,i+1):\n",
    "        print(i%2,end=\" \")\n",
    "        \n",
    "    print(\" \")\n",
    "    \n",
    "    "
   ]
  },
  {
   "cell_type": "code",
   "execution_count": 54,
   "id": "3ab1f339",
   "metadata": {},
   "outputs": [
    {
     "name": "stdout",
     "output_type": "stream",
     "text": [
      "enter no of row5\n",
      "* * * * \n",
      "* * * \n",
      "* * \n",
      "* \n",
      "\n"
     ]
    }
   ],
   "source": [
    "r=int(input(\"enter no of row\"))\n",
    "for i in range(1,r+1):\n",
    "    for sp in range(r,i,-1):\n",
    "        print(\"*\",end=\" \")\n",
    "        \n",
    "    print()"
   ]
  },
  {
   "cell_type": "code",
   "execution_count": 62,
   "id": "d971513d",
   "metadata": {},
   "outputs": [
    {
     "name": "stdout",
     "output_type": "stream",
     "text": [
      "enter no of row5\n",
      "        1 \n",
      "      1 2 \n",
      "    1 2 3 \n",
      "  1 2 3 4 \n",
      "1 2 3 4 5 \n"
     ]
    }
   ],
   "source": [
    "r=int(input(\"enter no of row\"))\n",
    "for i in range(1,r+1):\n",
    "    for sp in range(r,i,-1):\n",
    "        print(\" \",end=\" \")\n",
    "    for j in range(1,i+1):\n",
    "            print(j,end=\" \")\n",
    "    print()\n",
    "        \n",
    "   "
   ]
  },
  {
   "cell_type": "code",
   "execution_count": null,
   "id": "122bb09f",
   "metadata": {},
   "outputs": [],
   "source": []
  },
  {
   "cell_type": "code",
   "execution_count": null,
   "id": "4f34eea5",
   "metadata": {},
   "outputs": [],
   "source": []
  },
  {
   "cell_type": "code",
   "execution_count": null,
   "id": "c49ea18c",
   "metadata": {},
   "outputs": [],
   "source": []
  }
 ],
 "metadata": {
  "kernelspec": {
   "display_name": "Python 3 (ipykernel)",
   "language": "python",
   "name": "python3"
  },
  "language_info": {
   "codemirror_mode": {
    "name": "ipython",
    "version": 3
   },
   "file_extension": ".py",
   "mimetype": "text/x-python",
   "name": "python",
   "nbconvert_exporter": "python",
   "pygments_lexer": "ipython3",
   "version": "3.7.6"
  }
 },
 "nbformat": 4,
 "nbformat_minor": 5
}
