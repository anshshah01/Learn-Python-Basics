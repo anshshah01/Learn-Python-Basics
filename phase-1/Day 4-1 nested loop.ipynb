{
 "cells": [
  {
   "cell_type": "code",
   "execution_count": 5,
   "id": "69f3d469",
   "metadata": {},
   "outputs": [
    {
     "name": "stdout",
     "output_type": "stream",
     "text": [
      "enter no of row3\n",
      "1 1\n",
      "2 1\n",
      "2 2\n",
      "3 1\n",
      "3 2\n",
      "3 3\n"
     ]
    }
   ],
   "source": [
    "r=int(input(\"enter no of row\"))\n",
    "for i in range(1,r+1):\n",
    "    for j in range(1,i+1):\n",
    "        print(i,j)"
   ]
  },
  {
   "cell_type": "code",
   "execution_count": 6,
   "id": "cfb202a4",
   "metadata": {},
   "outputs": [
    {
     "name": "stdout",
     "output_type": "stream",
     "text": [
      "enter no of row3\n",
      "1 1 2 1 2 2 3 1 3 2 3 3 "
     ]
    }
   ],
   "source": [
    "r=int(input(\"enter no of row\"))\n",
    "for i in range(1,r+1):\n",
    "    for j in range(1,i+1):\n",
    "        print(i,j,end=\" \")"
   ]
  },
  {
   "cell_type": "code",
   "execution_count": 4,
   "id": "d977ff29",
   "metadata": {},
   "outputs": [
    {
     "name": "stdout",
     "output_type": "stream",
     "text": [
      "enter no of row5\n",
      "1 1  \n",
      "2 1 2 2  \n",
      "3 1 3 2 3 3  \n",
      "4 1 4 2 4 3 4 4  \n",
      "5 1 5 2 5 3 5 4 5 5  \n"
     ]
    }
   ],
   "source": [
    "r=int(input(\"enter no of row\"))\n",
    "for i in range(1,r+1):\n",
    "    for j in range(1,i+1):\n",
    "        print(i,j,end=\" \")\n",
    "    print(\" \")"
   ]
  },
  {
   "cell_type": "code",
   "execution_count": 16,
   "id": "e23ec891",
   "metadata": {},
   "outputs": [
    {
     "name": "stdout",
     "output_type": "stream",
     "text": [
      "enter no of row5\n",
      "A  \n",
      "B B  \n",
      "C C C  \n",
      "D D D D  \n",
      "E E E E E  \n"
     ]
    }
   ],
   "source": [
    "r=int(input(\"enter no of row\"))\n",
    "for i in range(1,r+1):\n",
    "    for j in range(1,i+1):\n",
    "        print(chr(i+64),end=\" \")\n",
    "        \n",
    "    print(\" \")\n",
    "    \n",
    "    "
   ]
  },
  {
   "cell_type": "code",
   "execution_count": 12,
   "id": "2a0af725",
   "metadata": {},
   "outputs": [
    {
     "name": "stdout",
     "output_type": "stream",
     "text": [
      "enter no of row5\n",
      "A  \n",
      "A B  \n",
      "A B C  \n",
      "A B C D  \n",
      "A B C D E  \n"
     ]
    }
   ],
   "source": [
    "r=int(input(\"enter no of row\"))\n",
    "for i in range(1,r+1):\n",
    "    for j in range(1,i+1):\n",
    "        print(chr(j+64),end=\" \")\n",
    "        \n",
    "    print(\" \")\n",
    "    \n",
    "    "
   ]
  },
  {
   "cell_type": "code",
   "execution_count": 25,
   "id": "9034d146",
   "metadata": {},
   "outputs": [
    {
     "name": "stdout",
     "output_type": "stream",
     "text": [
      "enter no of row5\n",
      "E E E E E  \n",
      "D D D D  \n",
      "C C C  \n",
      "B B  \n",
      "A  \n"
     ]
    }
   ],
   "source": [
    "r=int(input(\"enter no of row\"))\n",
    "for i in range(r,0,-1):\n",
    "    \n",
    "    for j in range(1,i+1):\n",
    "        print(chr(i+64),end=\" \")\n",
    "        \n",
    "    print(\" \")\n",
    "    \n",
    "    "
   ]
  },
  {
   "cell_type": "code",
   "execution_count": 29,
   "id": "3f3c796a",
   "metadata": {},
   "outputs": [
    {
     "ename": "IndentationError",
     "evalue": "unindent does not match any outer indentation level (<tokenize>, line 6)",
     "output_type": "error",
     "traceback": [
      "\u001b[1;36m  File \u001b[1;32m\"<tokenize>\"\u001b[1;36m, line \u001b[1;32m6\u001b[0m\n\u001b[1;33m    print(\"\")\u001b[0m\n\u001b[1;37m    ^\u001b[0m\n\u001b[1;31mIndentationError\u001b[0m\u001b[1;31m:\u001b[0m unindent does not match any outer indentation level\n"
     ]
    }
   ],
   "source": [
    "r=int(input(\"enter no of row\"))\n",
    "for i in range(r,0,-1):\n",
    "    b=b+1\n",
    "    for j in range(1,i+1):\n",
    "        print(b,end=\"\")\n",
    "     print(\"\")   \n",
    "    \n",
    "    "
   ]
  },
  {
   "cell_type": "code",
   "execution_count": null,
   "id": "5ff88893",
   "metadata": {},
   "outputs": [],
   "source": []
  }
 ],
 "metadata": {
  "kernelspec": {
   "display_name": "Python 3 (ipykernel)",
   "language": "python",
   "name": "python3"
  },
  "language_info": {
   "codemirror_mode": {
    "name": "ipython",
    "version": 3
   },
   "file_extension": ".py",
   "mimetype": "text/x-python",
   "name": "python",
   "nbconvert_exporter": "python",
   "pygments_lexer": "ipython3",
   "version": "3.7.6"
  }
 },
 "nbformat": 4,
 "nbformat_minor": 5
}
