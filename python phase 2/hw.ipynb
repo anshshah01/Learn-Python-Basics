{
 "cells": [
  {
   "cell_type": "code",
   "execution_count": 7,
   "id": "a5b7df5a",
   "metadata": {},
   "outputs": [
    {
     "name": "stdout",
     "output_type": "stream",
     "text": [
      "Enter the string:-gn f\n",
      "4\n"
     ]
    }
   ],
   "source": [
    "#finding length of strings with inbuilt length function\n",
    "class length:\n",
    "    def __init__(self):\n",
    "        n=input(\"Enter the string=\")\n",
    "        print(len(n))\n",
    "string=length()\n"
   ]
  },
  {
   "cell_type": "code",
   "execution_count": 12,
   "id": "370d43f6",
   "metadata": {},
   "outputs": [
    {
     "name": "stdout",
     "output_type": "stream",
     "text": [
      "enter the string=hxd tdy\n",
      "7\n"
     ]
    }
   ],
   "source": [
    "#Finding length of strings without inbuilt function\n",
    "class length:\n",
    "    def __init__(self):\n",
    "        a=[]\n",
    "    def str_len(self):\n",
    "        count=0\n",
    "        n=input(\"enter the string=\")\n",
    "        for i in n:\n",
    "            count+=1\n",
    "        print(count) \n",
    "string=length()\n",
    "string.str_len()"
   ]
  },
  {
   "cell_type": "code",
   "execution_count": 6,
   "id": "ee8f5a7b",
   "metadata": {},
   "outputs": [
    {
     "name": "stdout",
     "output_type": "stream",
     "text": [
      "Enter the the no.50\n",
      "Not Prime\n"
     ]
    }
   ],
   "source": [
    "class prime:\n",
    "    def check(self):\n",
    "        n=int(input(\"Enter the the no.\"))\n",
    "        for i in range(2,n):\n",
    "            if(n%i==0):\n",
    "                flag=0\n",
    "                break\n",
    "        else:\n",
    "            flag=1\n",
    "        if(flag==1):\n",
    "            print(\"Prime\")\n",
    "        else:\n",
    "            print(\"Not Prime\")\n",
    "hi=prime()\n",
    "hi.check()"
   ]
  },
  {
   "cell_type": "code",
   "execution_count": 7,
   "id": "8baeb1ce",
   "metadata": {},
   "outputs": [
    {
     "name": "stdout",
     "output_type": "stream",
     "text": [
      "Prime\n"
     ]
    }
   ],
   "source": [
    "class prime:\n",
    "    def __init__(self,data):\n",
    "        self.data=data\n",
    "    def check(self):\n",
    "        for i in range(2,self.data):\n",
    "            if(self.data%i==0):\n",
    "                flag=0\n",
    "                break\n",
    "        else:\n",
    "            flag=1\n",
    "        if(flag==1):\n",
    "            print(\"Prime\")\n",
    "        else:\n",
    "            print(\"Not Prime\")\n",
    "hi=prime(3)\n",
    "hi.check()"
   ]
  },
  {
   "cell_type": "code",
   "execution_count": 8,
   "id": "09258cb1",
   "metadata": {},
   "outputs": [
    {
     "name": "stdout",
     "output_type": "stream",
     "text": [
      "Original stack: ['a', 'b', 'c', 'd', 'e']\n",
      "Reversed stack: ['e', 'd', 'c', 'b', 'a']\n"
     ]
    }
   ],
   "source": [
    "stack=[]\n",
    "stack_rev=[]\n",
    "stack.append('a')\n",
    "stack.append('b')\n",
    "stack.append('c')\n",
    "stack.append('d')\n",
    "stack.append('e')\n",
    "print(\"Original stack:\",stack)\n",
    "for i in range(0,len(stack)):  \n",
    "    y=stack.pop()\n",
    "    stack_rev.append(y) #This appends(stores) the popped elements in reversed string\n",
    "print(\"Reversed stack:\",stack_rev)"
   ]
  },
  {
   "cell_type": "code",
   "execution_count": 13,
   "id": "000ca385",
   "metadata": {},
   "outputs": [
    {
     "name": "stdout",
     "output_type": "stream",
     "text": [
      "Enter string: ukio\n",
      "Input Order:\n",
      "['u', 'k', 'i', 'o']\n",
      "Output Order:\n",
      "o\n",
      "oi\n",
      "oik\n",
      "oiku\n",
      "Reverse string: oiku\n"
     ]
    }
   ],
   "source": [
    "def rev(string): #function\n",
    "    stack=[]\n",
    "    print(\"Input Order:\")\n",
    "    for i in string:\n",
    "        stack.append(i)\n",
    "    print(stack)\n",
    "    #Empty string (for Converting stack ---> string)\n",
    "    rev_str=\"\"\n",
    "    print(\"Output Order:\")\n",
    "    while stack:\n",
    "        rev_str+=stack.pop() #Since Stack is LIFO structure the last element will pop first\n",
    "        print(rev_str)\n",
    "    return rev_str\n",
    "\n",
    "#main: \n",
    "string=input(\"Enter string: \")\n",
    "#calling function\n",
    "reverse_string=rev(string)\n",
    "\n",
    "print(\"Reverse string:\",reverse_string)"
   ]
  },
  {
   "cell_type": "code",
   "execution_count": null,
   "id": "52402b41",
   "metadata": {},
   "outputs": [],
   "source": [
    "#menu based stack implement\n",
    "\n",
    "class node:\n",
    "    def __init__(self,data):\n",
    "        self.data=data\n",
    "        self.next=None\n",
    "class stack:\n",
    "    \n",
    "    def __init__(self):\n",
    "        self.head=None\n",
    "    def isempty():\n",
    "        if(self.head==None):\n",
    "            return True\n",
    "        else:\n",
    "            return False\n",
    "    def push(self,data):\n",
    "        if(self.head==None)\n",
    "            self.head=node(data)\n",
    "        else:\n",
    "            newnode=node(data)\n",
    "            self.head=newnode\n",
    "            newnode.next=self.head\n",
    "    def pop(self):\n",
    "        if(self.head==None):\n",
    "            print(\"underflow\")\n",
    "        else:\n",
    "            poppednode\n",
    "            self.head=self.head.next\n",
    "        \n",
    "        \n",
    "        \n",
    "        \n",
    "        \n",
    "        \n",
    "        \n",
    "        "
   ]
  },
  {
   "cell_type": "code",
   "execution_count": null,
   "id": "cb8bdb60",
   "metadata": {},
   "outputs": [],
   "source": [
    "##fibonacci using recursion\n",
    "\n",
    "n=int(input(\"enter number\"))\n"
   ]
  },
  {
   "cell_type": "code",
   "execution_count": null,
   "id": "af385ff6",
   "metadata": {},
   "outputs": [],
   "source": []
  }
 ],
 "metadata": {
  "kernelspec": {
   "display_name": "Python 3 (ipykernel)",
   "language": "python",
   "name": "python3"
  },
  "language_info": {
   "codemirror_mode": {
    "name": "ipython",
    "version": 3
   },
   "file_extension": ".py",
   "mimetype": "text/x-python",
   "name": "python",
   "nbconvert_exporter": "python",
   "pygments_lexer": "ipython3",
   "version": "3.7.4"
  }
 },
 "nbformat": 4,
 "nbformat_minor": 5
}
