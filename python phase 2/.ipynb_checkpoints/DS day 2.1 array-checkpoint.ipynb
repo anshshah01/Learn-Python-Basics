{
 "cells": [
  {
   "cell_type": "markdown",
   "id": "6876bde4",
   "metadata": {},
   "source": [
    "# sum of two numbers using function"
   ]
  },
  {
   "cell_type": "code",
   "execution_count": 1,
   "id": "6a6d18a6",
   "metadata": {},
   "outputs": [
    {
     "name": "stdout",
     "output_type": "stream",
     "text": [
      "enter a=5\n",
      "enter b=6\n",
      "sum is 11\n"
     ]
    }
   ],
   "source": [
    "def sum(a,b):\n",
    "    c=a+b\n",
    "    print('sum is',c)\n",
    "a=int(input(\"enter a=\"))\n",
    "b=int(input(\"enter b=\"))\n",
    "sum(a,b)"
   ]
  },
  {
   "cell_type": "code",
   "execution_count": null,
   "id": "370e37ea",
   "metadata": {},
   "outputs": [],
   "source": []
  },
  {
   "cell_type": "markdown",
   "id": "ce721ed3",
   "metadata": {},
   "source": [
    "# Factorial using for loop"
   ]
  },
  {
   "cell_type": "code",
   "execution_count": 11,
   "id": "f07525e9",
   "metadata": {},
   "outputs": [
    {
     "name": "stdout",
     "output_type": "stream",
     "text": [
      "enter n=6\n",
      "720\n"
     ]
    }
   ],
   "source": [
    "n=int(input(\"enter n=\"))\n",
    "fact=1\n",
    "for i in range(1,n+1):\n",
    "    fact=fact*i\n",
    "print(fact)"
   ]
  },
  {
   "cell_type": "markdown",
   "id": "15234601",
   "metadata": {},
   "source": [
    "# Array"
   ]
  },
  {
   "cell_type": "code",
   "execution_count": 14,
   "id": "b5ccd36e",
   "metadata": {},
   "outputs": [
    {
     "name": "stdout",
     "output_type": "stream",
     "text": [
      "11\n",
      "56\n",
      "698\n",
      "68\n",
      "2\n",
      "564\n",
      "3\n",
      "5\n"
     ]
    }
   ],
   "source": [
    "import array as arr\n",
    "a=arr.array('i',[11,56,698,68,2,564,3,5])\n",
    "for i in range(0,8):\n",
    "    print(a[i])"
   ]
  },
  {
   "cell_type": "code",
   "execution_count": 23,
   "id": "af81ef01",
   "metadata": {},
   "outputs": [],
   "source": [
    "#### using len"
   ]
  },
  {
   "cell_type": "code",
   "execution_count": 25,
   "id": "574fc7d2",
   "metadata": {},
   "outputs": [
    {
     "name": "stdout",
     "output_type": "stream",
     "text": [
      "1\n",
      "2\n",
      "3\n",
      "2.5\n",
      "3.5\n",
      "3.2\n"
     ]
    }
   ],
   "source": [
    "import array as arr\n",
    "a=arr.array('i',[1,2,3])\n",
    "for i in range(len(a)):\n",
    "    print(a[i])\n",
    "b=arr.array('d',[2.5,3.2,3.5])\n",
    "for i in range(len(b)):\n",
    "    print(b[i])\n",
    "    "
   ]
  },
  {
   "cell_type": "markdown",
   "id": "c4b74a85",
   "metadata": {},
   "source": [
    "### insert"
   ]
  },
  {
   "cell_type": "code",
   "execution_count": 30,
   "id": "a1c4395d",
   "metadata": {},
   "outputs": [
    {
     "name": "stdout",
     "output_type": "stream",
     "text": [
      "1\n",
      "4\n",
      "2\n",
      "3\n",
      "2.5\n",
      "3.2\n",
      "3.5\n"
     ]
    }
   ],
   "source": [
    "import array as arr\n",
    "a=arr.array('i',[1,2,3])\n",
    "\n",
    "a.insert(1,4)########################\n",
    "\n",
    "for i in range(len(a)):\n",
    "    print(a[i])\n",
    "b=arr.array('d',[2.5,3.2,3.5])\n",
    "for i in range(len(b)):\n",
    "    print(b[i])\n",
    "    "
   ]
  },
  {
   "cell_type": "code",
   "execution_count": 69,
   "id": "37e94c20",
   "metadata": {},
   "outputs": [],
   "source": [
    "##append(to add onley one element at the end)"
   ]
  },
  {
   "cell_type": "code",
   "execution_count": 34,
   "id": "d5498c27",
   "metadata": {},
   "outputs": [
    {
     "name": "stdout",
     "output_type": "stream",
     "text": [
      "1\n",
      "2\n",
      "3\n",
      "2.5\n",
      "3.2\n",
      "3.5\n",
      "4.4\n"
     ]
    }
   ],
   "source": [
    "import array as arr\n",
    "a=arr.array('i',[1,2,3])\n",
    "for i in range(len(a)):\n",
    "    print(a[i])\n",
    "b=arr.array('d',[2.5,3.2,3.5])\n",
    "\n",
    "b.append(4.4)####################\n",
    "\n",
    "for i in range(len(b)):\n",
    "    print(b[i])\n",
    "    "
   ]
  },
  {
   "cell_type": "code",
   "execution_count": null,
   "id": "06d23cbc",
   "metadata": {},
   "outputs": [],
   "source": [
    "## print only any one element"
   ]
  },
  {
   "cell_type": "code",
   "execution_count": 35,
   "id": "aef523b3",
   "metadata": {},
   "outputs": [
    {
     "name": "stdout",
     "output_type": "stream",
     "text": [
      "1\n",
      "2\n",
      "3\n",
      "2.5\n"
     ]
    }
   ],
   "source": [
    "import array as arr\n",
    "a=arr.array('i',[1,2,3])\n",
    "for i in range(len(a)):\n",
    "    print(a[i])\n",
    "b=arr.array('d',[2.5,3.2,3.5])\n",
    "print(b[0])#########################\n",
    "    "
   ]
  },
  {
   "cell_type": "code",
   "execution_count": 39,
   "id": "538dbcb4",
   "metadata": {},
   "outputs": [],
   "source": [
    "## using remove(in remove write value)"
   ]
  },
  {
   "cell_type": "code",
   "execution_count": 44,
   "id": "83327ab2",
   "metadata": {},
   "outputs": [
    {
     "name": "stdout",
     "output_type": "stream",
     "text": [
      "1\n",
      "2\n",
      "3\n",
      "3.2\n",
      "3.5\n"
     ]
    }
   ],
   "source": [
    "import array as arr\n",
    "a=arr.array('i',[1,2,3])\n",
    "for i in range(len(a)):\n",
    "    print(a[i])\n",
    "b=arr.array('d',[2.5,3.2,3.5])\n",
    "\n",
    "b.remove(2.5)#####################\n",
    "\n",
    "for i in range(len(b)):\n",
    "    print(b[i])\n",
    "    "
   ]
  },
  {
   "cell_type": "code",
   "execution_count": 37,
   "id": "98a9c5fa",
   "metadata": {},
   "outputs": [],
   "source": [
    "##using pop (in pop write index number)"
   ]
  },
  {
   "cell_type": "code",
   "execution_count": 46,
   "id": "98830ed5",
   "metadata": {},
   "outputs": [
    {
     "name": "stdout",
     "output_type": "stream",
     "text": [
      "1\n",
      "2\n",
      "3\n",
      "2.5\n",
      "3.2\n"
     ]
    }
   ],
   "source": [
    "import array as arr\n",
    "a=arr.array('i',[1,2,3])\n",
    "for i in range(len(a)):\n",
    "    print(a[i])\n",
    "b=arr.array('d',[2.5,3.2,3.5])\n",
    "\n",
    "b.pop(2)######################\n",
    "\n",
    "for i in range(len(b)):\n",
    "    print(b[i])\n",
    "    "
   ]
  },
  {
   "cell_type": "code",
   "execution_count": 47,
   "id": "c2add84c",
   "metadata": {},
   "outputs": [
    {
     "name": "stdout",
     "output_type": "stream",
     "text": [
      "1\n",
      "2\n",
      "3\n"
     ]
    },
    {
     "data": {
      "text/plain": [
       "3.5"
      ]
     },
     "execution_count": 47,
     "metadata": {},
     "output_type": "execute_result"
    }
   ],
   "source": [
    "import array as arr\n",
    "a=arr.array('i',[1,2,3])\n",
    "for i in range(len(a)):\n",
    "    print(a[i])\n",
    "b=arr.array('d',[2.5,3.2,3.5])\n",
    "\n",
    "b.pop(2)######################\n",
    "    "
   ]
  },
  {
   "cell_type": "code",
   "execution_count": 49,
   "id": "85919cd2",
   "metadata": {},
   "outputs": [],
   "source": [
    "##serching an element in array(first occurance of any number)(using index)"
   ]
  },
  {
   "cell_type": "code",
   "execution_count": 53,
   "id": "9077ad21",
   "metadata": {},
   "outputs": [
    {
     "name": "stdout",
     "output_type": "stream",
     "text": [
      "2\n"
     ]
    }
   ],
   "source": [
    "import array as arr\n",
    "a=arr.array('i',[1,2,3])\n",
    "\n",
    "b=a.index(3)######\n",
    "print(b)"
   ]
  },
  {
   "cell_type": "code",
   "execution_count": 56,
   "id": "72260981",
   "metadata": {},
   "outputs": [],
   "source": [
    "##updating array"
   ]
  },
  {
   "cell_type": "code",
   "execution_count": 58,
   "id": "f83b6661",
   "metadata": {},
   "outputs": [
    {
     "name": "stdout",
     "output_type": "stream",
     "text": [
      "1\n",
      "2\n",
      "20\n"
     ]
    }
   ],
   "source": [
    "import array as arr\n",
    "a=arr.array('i',[1,2,3])\n",
    "\n",
    "a[2]=20######################\n",
    "for i in range(len(a)):\n",
    "    print(a[i])"
   ]
  },
  {
   "cell_type": "code",
   "execution_count": 60,
   "id": "2220130f",
   "metadata": {},
   "outputs": [],
   "source": [
    "##count (to count any element in array how many times)"
   ]
  },
  {
   "cell_type": "code",
   "execution_count": 62,
   "id": "0d1a3756",
   "metadata": {},
   "outputs": [
    {
     "name": "stdout",
     "output_type": "stream",
     "text": [
      "count of 2 is 1\n",
      "1\n",
      "2\n",
      "3\n"
     ]
    }
   ],
   "source": [
    "import array as arr\n",
    "a=arr.array('i',[1,2,3])\n",
    "\n",
    "b=a.count(2)\n",
    "print(\"count of 2 is\",b)\n",
    "\n",
    "for i in range(len(a)):\n",
    "    print(a[i])"
   ]
  },
  {
   "cell_type": "code",
   "execution_count": null,
   "id": "52e4042d",
   "metadata": {},
   "outputs": [],
   "source": [
    "##Reverse"
   ]
  },
  {
   "cell_type": "code",
   "execution_count": 65,
   "id": "f3baf085",
   "metadata": {},
   "outputs": [
    {
     "name": "stdout",
     "output_type": "stream",
     "text": [
      "3\n",
      "2\n",
      "1\n"
     ]
    }
   ],
   "source": [
    "import array as arr\n",
    "a=arr.array('i',[1,2,3])\n",
    "\n",
    "a.reverse()#########\n",
    "\n",
    "for i in range(len(a)):\n",
    "    print(a[i])"
   ]
  },
  {
   "cell_type": "code",
   "execution_count": 66,
   "id": "822f8892",
   "metadata": {},
   "outputs": [],
   "source": [
    "#extend(to add more than one value at last)"
   ]
  },
  {
   "cell_type": "code",
   "execution_count": 68,
   "id": "7d035b4d",
   "metadata": {},
   "outputs": [
    {
     "name": "stdout",
     "output_type": "stream",
     "text": [
      "1\n",
      "2\n",
      "3\n",
      "1\n",
      "2\n"
     ]
    }
   ],
   "source": [
    "import array as arr\n",
    "a=arr.array('i',[1,2,3])\n",
    "\n",
    "a.extend((1,2))###########\n",
    "\n",
    "for i in range(len(a)):\n",
    "    print(a[i])"
   ]
  },
  {
   "cell_type": "code",
   "execution_count": null,
   "id": "0150806a",
   "metadata": {},
   "outputs": [],
   "source": [
    "##"
   ]
  }
 ],
 "metadata": {
  "kernelspec": {
   "display_name": "Python 3 (ipykernel)",
   "language": "python",
   "name": "python3"
  },
  "language_info": {
   "codemirror_mode": {
    "name": "ipython",
    "version": 3
   },
   "file_extension": ".py",
   "mimetype": "text/x-python",
   "name": "python",
   "nbconvert_exporter": "python",
   "pygments_lexer": "ipython3",
   "version": "3.7.4"
  }
 },
 "nbformat": 4,
 "nbformat_minor": 5
}
