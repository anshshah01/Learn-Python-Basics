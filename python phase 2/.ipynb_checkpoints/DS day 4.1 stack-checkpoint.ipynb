{
 "cells": [
  {
   "cell_type": "code",
   "execution_count": null,
   "id": "93378f67",
   "metadata": {},
   "outputs": [],
   "source": [
    "##push means append ,pop"
   ]
  },
  {
   "cell_type": "code",
   "execution_count": 8,
   "id": "bd09adcc",
   "metadata": {},
   "outputs": [
    {
     "name": "stdout",
     "output_type": "stream",
     "text": [
      "[10, 20]\n",
      "[10]\n",
      "[]\n"
     ]
    }
   ],
   "source": [
    "\n",
    "# stack=last in first out\n",
    "\n",
    "stack=[]\n",
    "stack.append(10)\n",
    "stack.append(20)\n",
    "stack.append(30)\n",
    "\n",
    "stack.pop()\n",
    "print(stack)\n",
    "\n",
    "stack.pop()\n",
    "print(stack)\n",
    "\n",
    "stack.pop()\n",
    "print(stack)\n",
    "\n",
    "\n",
    "\n"
   ]
  },
  {
   "cell_type": "code",
   "execution_count": 15,
   "id": "1a523742",
   "metadata": {},
   "outputs": [
    {
     "name": "stdout",
     "output_type": "stream",
     "text": [
      "multicolor\n"
     ]
    }
   ],
   "source": [
    "class bird:\n",
    "    pass      # if nothing in class than write PASS\n",
    "peacock=bird        ## object name=classname()\n",
    "peacock.color=\"multicolor\"\n",
    "print(peacock.color)"
   ]
  },
  {
   "cell_type": "code",
   "execution_count": 22,
   "id": "d23e7e48",
   "metadata": {},
   "outputs": [
    {
     "name": "stdout",
     "output_type": "stream",
     "text": [
      "multicolor\n",
      "white\n"
     ]
    }
   ],
   "source": [
    "class bird:\n",
    "    color='white'  # color will taken white in all object definrd as bird class\n",
    "peacock=bird()\n",
    "peacock.color=\"multicolor\"\n",
    "print(peacock.color)\n",
    "\n",
    "dove=bird()\n",
    "print(dove.color)"
   ]
  },
  {
   "cell_type": "code",
   "execution_count": 23,
   "id": "f404f74a",
   "metadata": {},
   "outputs": [],
   "source": [
    "##holiday=sunday\n",
    "#working day 6\n",
    "#3 employee\n",
    "#1 employee own working day\n"
   ]
  },
  {
   "cell_type": "code",
   "execution_count": 26,
   "id": "0df14e9b",
   "metadata": {},
   "outputs": [
    {
     "name": "stdout",
     "output_type": "stream",
     "text": [
      "working day of sohan 6\n"
     ]
    }
   ],
   "source": [
    "class employee:\n",
    "    working_day=6\n",
    "    holiday=\"sunday\"\n",
    "\n",
    "sohan=employee()\n",
    "    \n",
    "rohan=employee()\n",
    "rohan.holiday=\"monday\"\n",
    "\n",
    "mohan=employee()\n",
    "mohan.working_day=5\n",
    "mohan.holiday=\"saturday,sunday\"\n",
    "\n",
    "print(\"working day of sohan\",sohan.working_day)\n",
    "print(\"working day of sohan\",rohan.working_day)\n",
    "\n",
    "print(\"working day of sohan\",mohan.working_day)"
   ]
  },
  {
   "cell_type": "code",
   "execution_count": 4,
   "id": "196c30af",
   "metadata": {},
   "outputs": [
    {
     "name": "stdout",
     "output_type": "stream",
     "text": [
      "50000\n"
     ]
    }
   ],
   "source": [
    "#function in class\n",
    "\n",
    "\n",
    "class employee:\n",
    "    working_day=6\n",
    "    def show(self):\n",
    "        print(self.salary)\n",
    "        \n",
    "rohan=employee()\n",
    "rohan.salary=50000\n",
    "rohan.show()"
   ]
  },
  {
   "cell_type": "code",
   "execution_count": 5,
   "id": "3621cc7d",
   "metadata": {},
   "outputs": [
    {
     "name": "stdout",
     "output_type": "stream",
     "text": [
      "hello\n"
     ]
    }
   ],
   "source": [
    "class employee:\n",
    "    def __init__(self):  # constructor\n",
    "        print(\"hello\")\n",
    "        \n",
    "rohan=employee()\n"
   ]
  },
  {
   "cell_type": "code",
   "execution_count": 40,
   "id": "b6a8b2dd",
   "metadata": {},
   "outputs": [
    {
     "name": "stdout",
     "output_type": "stream",
     "text": [
      "red\n"
     ]
    }
   ],
   "source": [
    "class car:\n",
    "    def __init__(self,model,color):\n",
    "        self.model=model\n",
    "        self.color=color\n",
    "audi=car(\"audi 7\",\"red\")\n",
    "\n",
    "print(audi.color)"
   ]
  },
  {
   "cell_type": "code",
   "execution_count": 7,
   "id": "26aeaea1",
   "metadata": {},
   "outputs": [
    {
     "name": "stdout",
     "output_type": "stream",
     "text": [
      "model is audi 7,color is red \n"
     ]
    }
   ],
   "source": [
    "### using return\n",
    "class car:\n",
    "    def __init__(self,model,color):\n",
    "        self.model=model\n",
    "        self.color=color\n",
    "        \n",
    "    def show(self):\n",
    "        return f\"model is {self.model},color is {self.color} \"\n",
    "audi=car(\"audi 7\",\"red\")\n",
    "print(audi.show())\n"
   ]
  },
  {
   "cell_type": "code",
   "execution_count": 1,
   "id": "7a5a3d1d",
   "metadata": {},
   "outputs": [
    {
     "name": "stdout",
     "output_type": "stream",
     "text": [
      "model is audi 7\n"
     ]
    }
   ],
   "source": [
    "##using print\n",
    "\n",
    "class car:\n",
    "    def __init__(self,model,color):\n",
    "        self.model=model\n",
    "        self.color=color\n",
    "        \n",
    "    def show(self):\n",
    "        print(\"model is\",self.model)\n",
    "audi=car(\"audi 7\",\"red\")\n",
    "audi.show()\n"
   ]
  },
  {
   "cell_type": "code",
   "execution_count": 8,
   "id": "66ae4514",
   "metadata": {},
   "outputs": [
    {
     "name": "stdout",
     "output_type": "stream",
     "text": [
      "model is audi 7,\n",
      "color is red \n"
     ]
    }
   ],
   "source": [
    "##using print f\n",
    "\n",
    "class car:\n",
    "    def __init__(self,model,color):\n",
    "        self.model=model\n",
    "        self.color=color\n",
    "        \n",
    "    def show(self):\n",
    "        print(f\"model is {self.model},\\ncolor is {self.color} \")\n",
    "audi=car(\"audi 7\",\"red\")\n",
    "audi.show()\n"
   ]
  },
  {
   "cell_type": "code",
   "execution_count": null,
   "id": "391f49ae",
   "metadata": {},
   "outputs": [],
   "source": []
  },
  {
   "cell_type": "code",
   "execution_count": null,
   "id": "3dcf7464",
   "metadata": {},
   "outputs": [],
   "source": []
  },
  {
   "cell_type": "code",
   "execution_count": null,
   "id": "0b2ba40a",
   "metadata": {},
   "outputs": [],
   "source": []
  }
 ],
 "metadata": {
  "kernelspec": {
   "display_name": "Python 3 (ipykernel)",
   "language": "python",
   "name": "python3"
  },
  "language_info": {
   "codemirror_mode": {
    "name": "ipython",
    "version": 3
   },
   "file_extension": ".py",
   "mimetype": "text/x-python",
   "name": "python",
   "nbconvert_exporter": "python",
   "pygments_lexer": "ipython3",
   "version": "3.7.4"
  }
 },
 "nbformat": 4,
 "nbformat_minor": 5
}
