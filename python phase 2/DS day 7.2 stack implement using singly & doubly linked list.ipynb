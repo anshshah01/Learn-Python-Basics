{
 "cells": [
  {
   "cell_type": "markdown",
   "id": "383af80a",
   "metadata": {},
   "source": [
    "# stack implement using singly linked list"
   ]
  },
  {
   "cell_type": "markdown",
   "id": "f151dc88",
   "metadata": {},
   "source": [
    "# add at begining\n",
    "in this head will be last added element"
   ]
  },
  {
   "cell_type": "code",
   "execution_count": 4,
   "id": "c641f841",
   "metadata": {},
   "outputs": [
    {
     "name": "stdout",
     "output_type": "stream",
     "text": [
      "40 ---> 30 ---> 20 ---> 10 ---> \n",
      "Top element is  40\n",
      "30 ---> 20 ---> 10 ---> \n",
      "Top element is  30\n"
     ]
    }
   ],
   "source": [
    "class node:\n",
    "    def __init__(self,data):\n",
    "        self.data=data\n",
    "        self.next=None\n",
    "class stack:\n",
    "    def __init__(self):\n",
    "        self.head=None\n",
    "    def isempty(self):\n",
    "        if (self.head==None):\n",
    "            return True\n",
    "        else:\n",
    "            return False\n",
    "    def push(self,data):\n",
    "        if(self.head==None):\n",
    "            self.head=node(data)\n",
    "        else:\n",
    "            newnode=node(data)\n",
    "            newnode.next=self.head ############\n",
    "            self.head=newnode\n",
    "            \n",
    "    def pop(self):\n",
    "        if(self.isempty()):\n",
    "            return None\n",
    "        else:\n",
    "            poppednode=self.head        #for pop data   \n",
    "            self.head=self.head.next    #for make new head\n",
    "            poppednode.next=None        #for pop next of popped element\n",
    "            return poppednode.data\n",
    "    def peek(self):\n",
    "        if (self.isempty()):\n",
    "            return None\n",
    "        else:\n",
    "            return self.head.data\n",
    "    def display(self):\n",
    "        iternode=self.head\n",
    "        if (self.isempty()):\n",
    "            print(\"underflow\")\n",
    "        else:\n",
    "            while(iternode!=None):\n",
    "                print(iternode.data,\"--->\",end=\" \")\n",
    "                iternode=iternode.next\n",
    "            \n",
    "        \n",
    "    \n",
    "        \n",
    "mystack=stack()\n",
    "mystack.push(10)\n",
    "mystack.push(20)\n",
    "mystack.push(30)\n",
    "mystack.push(40)\n",
    "mystack.display()\n",
    "print(\"\\nTop element is \",mystack.peek())\n",
    "mystack.pop()\n",
    "mystack.display()\n",
    "print(\"\\nTop element is \",mystack.peek())"
   ]
  },
  {
   "cell_type": "code",
   "execution_count": null,
   "id": "f30ceeec",
   "metadata": {},
   "outputs": [],
   "source": []
  },
  {
   "cell_type": "markdown",
   "id": "3e085aa1",
   "metadata": {},
   "source": [
    "## add at end\n",
    "in this head will be first element"
   ]
  },
  {
   "cell_type": "code",
   "execution_count": 5,
   "id": "8c1906ba",
   "metadata": {},
   "outputs": [
    {
     "name": "stdout",
     "output_type": "stream",
     "text": [
      "11 ---> 22 ---> 33 ---> 44 ---> "
     ]
    }
   ],
   "source": [
    "## not completed\n",
    "\n",
    "#stack implementation using linedlist(ending)\n",
    "class node:\n",
    "    def __init__(self,data):\n",
    "        self.data=data\n",
    "        self.next=None\n",
    "class stack:\n",
    "    def __init__(self):\n",
    "        self.head=None\n",
    "    def isempty(self):\n",
    "        if(self.head==None):\n",
    "            return True\n",
    "        else:\n",
    "            return False\n",
    "    def push(self,data):\n",
    "        newnode=node(data)\n",
    "        if(self.head==None):\n",
    "            self.head=node(data)\n",
    "            return\n",
    "        lastnode=self.head\n",
    "        while lastnode.next:\n",
    "            lastnode=lastnode.next\n",
    "        lastnode.next=newnode\n",
    "            \n",
    "            \n",
    "    def pop(self):\n",
    "        temp=self.head\n",
    "        if self.isempty():\n",
    "            return None\n",
    "        else:\n",
    "            poppednode=self.head\n",
    "            self.head=self.head.next\n",
    "            poppednode.next=None\n",
    "            return poppednode.data\n",
    "    def display(self):\n",
    "        iternode=self.head\n",
    "        if self.isempty():\n",
    "            print(\"underrflow\")\n",
    "        else:\n",
    "            while(iternode!=None):\n",
    "                print(iternode.data,\"--->\",end=\" \")\n",
    "                iternode=iternode.next\n",
    "            return\n",
    "        \n",
    "mystack=stack()\n",
    "mystack.push(11)\n",
    "mystack.push(22)\n",
    "mystack.push(33)\n",
    "mystack.push(44)\n",
    "\n",
    "mystack.display()"
   ]
  },
  {
   "cell_type": "markdown",
   "id": "8bb11e08",
   "metadata": {},
   "source": [
    "# stack using doubly linked list"
   ]
  },
  {
   "cell_type": "code",
   "execution_count": 3,
   "id": "a662bffe",
   "metadata": {},
   "outputs": [
    {
     "name": "stdout",
     "output_type": "stream",
     "text": [
      "40 --> 30 --> 20 --> 10 --> \n",
      "Top element is 40\n",
      "20 --> 10 --> \n",
      "Top element is 20\n"
     ]
    }
   ],
   "source": [
    "#stack implementation using Doublylinkedlist\n",
    "class node:\n",
    "    def __init__(self,data):\n",
    "        self.data=data\n",
    "        self.previous=None\n",
    "        self.next=None\n",
    "class stack:\n",
    "    def __init__(self):\n",
    "        self.head=None\n",
    "    def isempty(self):\n",
    "        if self.head==None:\n",
    "            return True\n",
    "        else:\n",
    "            return False\n",
    "    def push(self,data):\n",
    "        if self.head==None:\n",
    "            self.head=node(data)\n",
    "        else:\n",
    "            newnode=node(data)\n",
    "            self.head.prev=newnode\n",
    "            newnode.next=self.head\n",
    "            self.head=newnode\n",
    "    def pop(self):\n",
    "        if self.isempty():\n",
    "            return None\n",
    "        elif self.head.next is None:\n",
    "            temp=self.head.data\n",
    "            self.head=None\n",
    "            return temp\n",
    "        else:\n",
    "            temp=self.head.data\n",
    "            self.head=self.head.next\n",
    "            self.head.previous=None\n",
    "            return temp\n",
    "\n",
    "    def peek(self):\n",
    "        if self.isempty():\n",
    "            return None\n",
    "        else:\n",
    "            return self.head.data\n",
    "    def display(self):\n",
    "        iternode=self.head\n",
    "        if self.isempty():\n",
    "            print(\"Underflow\")\n",
    "        else:\n",
    "            while(iternode!=None):\n",
    "                print(iternode.data,\"-->\",end=\" \")\n",
    "                iternode=iternode.next\n",
    "            return\n",
    "mystack=stack()\n",
    "mystack.push(10)\n",
    "mystack.push(20)\n",
    "mystack.push(30)\n",
    "mystack.push(40)\n",
    "mystack.display()\n",
    "print(\"\\nTop element is\",mystack.peek())\n",
    "mystack.pop()\n",
    "mystack.pop()\n",
    "mystack.display()\n",
    "print(\"\\nTop element is\",mystack.peek())        "
   ]
  },
  {
   "cell_type": "code",
   "execution_count": null,
   "id": "cb72c833",
   "metadata": {},
   "outputs": [],
   "source": []
  }
 ],
 "metadata": {
  "kernelspec": {
   "display_name": "Python 3 (ipykernel)",
   "language": "python",
   "name": "python3"
  },
  "language_info": {
   "codemirror_mode": {
    "name": "ipython",
    "version": 3
   },
   "file_extension": ".py",
   "mimetype": "text/x-python",
   "name": "python",
   "nbconvert_exporter": "python",
   "pygments_lexer": "ipython3",
   "version": "3.7.4"
  }
 },
 "nbformat": 4,
 "nbformat_minor": 5
}
