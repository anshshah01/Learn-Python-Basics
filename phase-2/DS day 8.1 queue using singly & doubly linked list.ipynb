{
 "cells": [
  {
   "cell_type": "markdown",
   "id": "33483903",
   "metadata": {},
   "source": [
    "# queue using singly linked list"
   ]
  },
  {
   "cell_type": "code",
   "execution_count": 2,
   "id": "907726cf",
   "metadata": {},
   "outputs": [
    {
     "name": "stdout",
     "output_type": "stream",
     "text": [
      "rear is at 40\n",
      "Front is at 30\n",
      "30 <--40 <--"
     ]
    }
   ],
   "source": [
    "\n",
    "class node:\n",
    "    def __init__(self,data):\n",
    "        self.data=data\n",
    "        self.next=None\n",
    "class queue:\n",
    "    def __init__(self):\n",
    "        self.front=self.rear=None\n",
    "    def isempty(self):\n",
    "        if(self.rear==None):\n",
    "            return\n",
    "    def enqueue(self,item):\n",
    "        temp=node(item)\n",
    "        if self.rear==None:\n",
    "            self.front=self.rear=temp\n",
    "            return\n",
    "        self.rear.next=temp\n",
    "        self.rear=temp\n",
    "        return \n",
    "    def dequeue(self):\n",
    "        if(self.isempty()):\n",
    "            return\n",
    "        temp=self.front\n",
    "        self.front=temp.next\n",
    "        return \n",
    "    def display(self):\n",
    "        current=self.front\n",
    "        if current==None:\n",
    "            print(\"queue is empty\")\n",
    "            return\n",
    "        while current!=None:\n",
    "            print(current.data,end=\" <--\")\n",
    "            current=current.next\n",
    "\n",
    "q=queue()\n",
    "q.enqueue(10)\n",
    "q.enqueue(20)\n",
    "q.enqueue(30)\n",
    "q.enqueue(40)\n",
    "q.dequeue()\n",
    "q.dequeue()\n",
    "print(\"rear is at\",q.rear.data)\n",
    "print(\"Front is at\",q.front.data)\n",
    "q.display()\n"
   ]
  },
  {
   "cell_type": "markdown",
   "id": "8b2f4b8c",
   "metadata": {},
   "source": [
    "# queue using doubly linked list"
   ]
  },
  {
   "cell_type": "code",
   "execution_count": null,
   "id": "b6d473a3",
   "metadata": {},
   "outputs": [],
   "source": []
  }
 ],
 "metadata": {
  "kernelspec": {
   "display_name": "Python 3 (ipykernel)",
   "language": "python",
   "name": "python3"
  },
  "language_info": {
   "codemirror_mode": {
    "name": "ipython",
    "version": 3
   },
   "file_extension": ".py",
   "mimetype": "text/x-python",
   "name": "python",
   "nbconvert_exporter": "python",
   "pygments_lexer": "ipython3",
   "version": "3.9.7"
  }
 },
 "nbformat": 4,
 "nbformat_minor": 5
}
