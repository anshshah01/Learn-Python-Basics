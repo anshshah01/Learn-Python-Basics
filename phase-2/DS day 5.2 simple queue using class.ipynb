{
 "cells": [
  {
   "cell_type": "markdown",
   "id": "a0cd64f8",
   "metadata": {},
   "source": [
    "# stack means last in first out\n",
    "stack==when you empty the dish washer and put your plates away, you stack them up and then when you need a plate you take from the top of the stack\n",
    "\n",
    "# queue means first in first out\n",
    "queue== We wait in a line for a movie"
   ]
  },
  {
   "cell_type": "code",
   "execution_count": 1,
   "id": "fd9bcce2",
   "metadata": {},
   "outputs": [
    {
     "name": "stdout",
     "output_type": "stream",
     "text": [
      "[10, 20, 30]\n",
      "[20, 30]\n"
     ]
    }
   ],
   "source": [
    "#in stack push and pop are done in only top element. so,there we need only one pointer named top. \n",
    "#in queue enqueue is same as push. so, it's rear pointer.\n",
    "#     but dequeue is done on first not last so front pointer.\n",
    "# so 2 pointer named rear and front pointers\n",
    "\n",
    "queue=[]\n",
    "queue.append(10)    # in  queue append is known as enqueue\n",
    "queue.append(20)\n",
    "queue.append(30)\n",
    "print(queue)\n",
    "\n",
    "queue.pop(0)      # in queue pop in known as dequeue and it's must be pop(0) not pop()\n",
    "print(queue)"
   ]
  },
  {
   "cell_type": "code",
   "execution_count": 5,
   "id": "70f20964",
   "metadata": {},
   "outputs": [
    {
     "name": "stdout",
     "output_type": "stream",
     "text": [
      "[20, 30]\n"
     ]
    }
   ],
   "source": [
    "queue=[]\n",
    "\n",
    "class queue:\n",
    "    def __init__(self):\n",
    "        self.queue=[]\n",
    "    def enque(self,value):\n",
    "        self.queue.append(value)\n",
    "    def dequeue(self):\n",
    "        self.queue.pop(0)\n",
    "    def printqueue(self):\n",
    "        print(self.queue)\n",
    "        \n",
    "q=queue()\n",
    "q.enque(10)\n",
    "q.enque(20)\n",
    "q.enque(30)\n",
    "\n",
    "q.dequeue()\n",
    "q.printqueue()\n",
    "        "
   ]
  },
  {
   "cell_type": "code",
   "execution_count": 26,
   "id": "0a456ee3",
   "metadata": {},
   "outputs": [
    {
     "name": "stdout",
     "output_type": "stream",
     "text": [
      "length of queue is 5\n",
      "10 <-------front\n",
      "20\n",
      "30\n",
      "40\n",
      "50 <------rear\n"
     ]
    }
   ],
   "source": [
    "\n",
    "queue=[]\n",
    "class queue:\n",
    "    def __init__(self):\n",
    "        self.queue=[]\n",
    "    def enqueue(self,value):\n",
    "        self.queue.append(value)\n",
    "    def dequeue(self):\n",
    "        self.queue.pop(0)\n",
    "    def length(self):\n",
    "        print(\"length of queue is\",len(self.queue))\n",
    "    def printqueue(self):\n",
    "        print(self.queue[0],\"<-------front\")\n",
    "        for i in range (1,len(self.queue)-1):\n",
    "                print(self.queue[i])\n",
    "        print(self.queue[len(self.queue)-1],\"<------rear\")\n",
    "        \n",
    "        \n",
    "q=queue()\n",
    "q.enqueue(10)\n",
    "q.enqueue(20)\n",
    "q.enqueue(30)\n",
    "q.enqueue(40)\n",
    "q.enqueue(50)\n",
    "q.dequeue()\n",
    "\n",
    "q.length()\n",
    "q.printqueue()\n",
    "\n",
    "        "
   ]
  },
  {
   "cell_type": "code",
   "execution_count": 1,
   "id": "8602d6ea-4973-46e1-8e32-d93e37985f82",
   "metadata": {},
   "outputs": [
    {
     "ename": "UnboundLocalError",
     "evalue": "local variable 'front' referenced before assignment",
     "output_type": "error",
     "traceback": [
      "\u001b[0;31m---------------------------------------------------------------------------\u001b[0m",
      "\u001b[0;31mUnboundLocalError\u001b[0m                         Traceback (most recent call last)",
      "\u001b[0;32m<ipython-input-1-86850fe8cd7b>\u001b[0m in \u001b[0;36m<module>\u001b[0;34m\u001b[0m\n\u001b[1;32m     28\u001b[0m \u001b[0;34m\u001b[0m\u001b[0m\n\u001b[1;32m     29\u001b[0m \u001b[0mq\u001b[0m\u001b[0;34m=\u001b[0m\u001b[0mqueue\u001b[0m\u001b[0;34m(\u001b[0m\u001b[0;34m)\u001b[0m\u001b[0;34m\u001b[0m\u001b[0;34m\u001b[0m\u001b[0m\n\u001b[0;32m---> 30\u001b[0;31m \u001b[0mq\u001b[0m\u001b[0;34m.\u001b[0m\u001b[0menqueue\u001b[0m\u001b[0;34m(\u001b[0m\u001b[0;36m10\u001b[0m\u001b[0;34m)\u001b[0m\u001b[0;34m\u001b[0m\u001b[0;34m\u001b[0m\u001b[0m\n\u001b[0m\u001b[1;32m     31\u001b[0m \u001b[0mq\u001b[0m\u001b[0;34m.\u001b[0m\u001b[0menqueue\u001b[0m\u001b[0;34m(\u001b[0m\u001b[0;36m20\u001b[0m\u001b[0;34m)\u001b[0m\u001b[0;34m\u001b[0m\u001b[0;34m\u001b[0m\u001b[0m\n\u001b[1;32m     32\u001b[0m \u001b[0mq\u001b[0m\u001b[0;34m.\u001b[0m\u001b[0menqueue\u001b[0m\u001b[0;34m(\u001b[0m\u001b[0;36m30\u001b[0m\u001b[0;34m)\u001b[0m\u001b[0;34m\u001b[0m\u001b[0;34m\u001b[0m\u001b[0m\n",
      "\u001b[0;32m<ipython-input-1-86850fe8cd7b>\u001b[0m in \u001b[0;36menqueue\u001b[0;34m(self, value)\u001b[0m\n\u001b[1;32m      7\u001b[0m     \u001b[0;32mdef\u001b[0m \u001b[0menqueue\u001b[0m\u001b[0;34m(\u001b[0m\u001b[0mself\u001b[0m\u001b[0;34m,\u001b[0m\u001b[0mvalue\u001b[0m\u001b[0;34m)\u001b[0m\u001b[0;34m:\u001b[0m\u001b[0;34m\u001b[0m\u001b[0;34m\u001b[0m\u001b[0m\n\u001b[1;32m      8\u001b[0m         \u001b[0mself\u001b[0m\u001b[0;34m.\u001b[0m\u001b[0mqueue\u001b[0m\u001b[0;34m.\u001b[0m\u001b[0mappend\u001b[0m\u001b[0;34m(\u001b[0m\u001b[0mvalue\u001b[0m\u001b[0;34m)\u001b[0m\u001b[0;34m\u001b[0m\u001b[0;34m\u001b[0m\u001b[0m\n\u001b[0;32m----> 9\u001b[0;31m         \u001b[0;32mif\u001b[0m\u001b[0;34m(\u001b[0m\u001b[0mfront\u001b[0m\u001b[0;34m==\u001b[0m\u001b[0;34m-\u001b[0m\u001b[0;36m1\u001b[0m\u001b[0;34m)\u001b[0m\u001b[0;34m:\u001b[0m\u001b[0;34m\u001b[0m\u001b[0;34m\u001b[0m\u001b[0m\n\u001b[0m\u001b[1;32m     10\u001b[0m             \u001b[0mrear\u001b[0m\u001b[0;34m+=\u001b[0m\u001b[0;36m1\u001b[0m\u001b[0;34m\u001b[0m\u001b[0;34m\u001b[0m\u001b[0m\n\u001b[1;32m     11\u001b[0m             \u001b[0mfront\u001b[0m\u001b[0;34m+=\u001b[0m\u001b[0;36m1\u001b[0m\u001b[0;34m\u001b[0m\u001b[0;34m\u001b[0m\u001b[0m\n",
      "\u001b[0;31mUnboundLocalError\u001b[0m: local variable 'front' referenced before assignment"
     ]
    }
   ],
   "source": [
    "\n",
    "## using front and rear pointers\n",
    "queue=[] \n",
    "class queue:\n",
    "    def __init__(self):\n",
    "        self.queue=[]\n",
    "        self.front=self.rear=-1\n",
    "    def enqueue(self,value):\n",
    "        self.queue.append(value)\n",
    "        if(front==-1):\n",
    "            rear+=1\n",
    "            front+=1\n",
    "        else:\n",
    "            rear+=1\n",
    "    def dequeue(self):\n",
    "        self.queue.pop(0)\n",
    "        if(front==-1):\n",
    "            print('queue i underflow')\n",
    "        else:\n",
    "            front-=1\n",
    "    def length(self):\n",
    "        print(\"length of queue is\",len(self.queue))\n",
    "    def printqueue(self):\n",
    "        print(self.queue[0],\"<-------front\")\n",
    "        for i in range (1,len(self.queue)-1):\n",
    "                print(self.queue[i])\n",
    "        print(self.queue[len(self.queue)-1],\"<------rear\")\n",
    "        \n",
    "        \n",
    "q=queue()\n",
    "q.enqueue(10)\n",
    "q.enqueue(20)\n",
    "q.enqueue(30)\n",
    "q.enqueue(40)\n",
    "q.enqueue(50)\n",
    "q.dequeue()\n",
    "\n",
    "q.length()\n",
    "q.printqueue()\n",
    "\n",
    "        "
   ]
  },
  {
   "cell_type": "code",
   "execution_count": null,
   "id": "4b1723b7",
   "metadata": {},
   "outputs": [],
   "source": []
  }
 ],
 "metadata": {
  "kernelspec": {
   "display_name": "Python 3 (ipykernel)",
   "language": "python",
   "name": "python3"
  },
  "language_info": {
   "codemirror_mode": {
    "name": "ipython",
    "version": 3
   },
   "file_extension": ".py",
   "mimetype": "text/x-python",
   "name": "python",
   "nbconvert_exporter": "python",
   "pygments_lexer": "ipython3",
   "version": "3.7.4"
  },
  "vscode": {
   "interpreter": {
    "hash": "d6a6ea36a817b87c5ea70c7327b6299fd83a9de5bab9c5e60d332ac429e5c419"
   }
  }
 },
 "nbformat": 4,
 "nbformat_minor": 5
}
