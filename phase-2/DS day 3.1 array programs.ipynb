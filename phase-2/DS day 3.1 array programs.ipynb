{
 "cells": [
  {
   "cell_type": "code",
   "execution_count": null,
   "id": "09157dd1",
   "metadata": {},
   "outputs": [],
   "source": [
    "#sum of elements of array"
   ]
  },
  {
   "cell_type": "code",
   "execution_count": 3,
   "id": "c0a2a413",
   "metadata": {},
   "outputs": [
    {
     "name": "stdout",
     "output_type": "stream",
     "text": [
      "6\n"
     ]
    }
   ],
   "source": [
    "import array as arr\n",
    "a=arr.array('i',[1,2,3])\n",
    "sum=0\n",
    "for i in range(len(a)):\n",
    "    sum=sum+a[i]\n",
    "print(sum)"
   ]
  },
  {
   "cell_type": "code",
   "execution_count": 1,
   "id": "10420d1e",
   "metadata": {},
   "outputs": [],
   "source": [
    "#reverse of array without using in built function(reverse)"
   ]
  },
  {
   "cell_type": "code",
   "execution_count": 5,
   "id": "efb176ee",
   "metadata": {},
   "outputs": [
    {
     "name": "stdout",
     "output_type": "stream",
     "text": [
      "3\n",
      "2\n",
      "1\n"
     ]
    }
   ],
   "source": [
    "import array as arr\n",
    "a=arr.array('i',[1,2,3])\n",
    "for i in range(len(a)-1,-1,-1):\n",
    "    print(a[i])"
   ]
  },
  {
   "cell_type": "code",
   "execution_count": 6,
   "id": "44c7116a",
   "metadata": {},
   "outputs": [],
   "source": [
    "#find minimum out of 10 element"
   ]
  },
  {
   "cell_type": "code",
   "execution_count": 2,
   "id": "3dce70b8",
   "metadata": {},
   "outputs": [
    {
     "name": "stdout",
     "output_type": "stream",
     "text": [
      "1\n"
     ]
    }
   ],
   "source": [
    "import array as arr\n",
    "a=arr.array('i',[1,2,3])\n",
    "min=a[0]\n",
    "for i in range(len(a)):\n",
    "    if(a[i]<min):\n",
    "        min=a[i]\n",
    "print(min)"
   ]
  },
  {
   "cell_type": "markdown",
   "id": "74aee68a",
   "metadata": {},
   "source": [
    "# Sorting (bubble sort)"
   ]
  },
  {
   "cell_type": "code",
   "execution_count": null,
   "id": "ebeabc49",
   "metadata": {},
   "outputs": [],
   "source": []
  },
  {
   "cell_type": "code",
   "execution_count": 22,
   "id": "5f9de3f5",
   "metadata": {},
   "outputs": [
    {
     "name": "stdout",
     "output_type": "stream",
     "text": [
      "11\n",
      "25\n",
      "28\n",
      "55\n",
      "66\n",
      "78\n"
     ]
    }
   ],
   "source": [
    "l=[78,55,28,66,11,25]\n",
    "for i in range(len(l)):\n",
    "    for j in range(len(l)-1):\n",
    "        if (l[j]>l[j+1]):\n",
    "            l[j],l[j+1]=l[j+1],l[j]\n",
    "\n",
    "for i in range(len(l)):\n",
    "    print(l[i])\n",
    "    \n",
    "        \n",
    "            "
   ]
  },
  {
   "cell_type": "code",
   "execution_count": 10,
   "id": "80f5e1f5",
   "metadata": {},
   "outputs": [],
   "source": [
    "#not finished\n",
    "##effective bubble sort\n",
    "#make it effective bubble shot means if already ini ascending order than dont go ahead"
   ]
  },
  {
   "cell_type": "code",
   "execution_count": 45,
   "id": "6cba7e1c",
   "metadata": {},
   "outputs": [
    {
     "name": "stdout",
     "output_type": "stream",
     "text": [
      "11\n",
      "25\n",
      "28\n",
      "55\n",
      "66\n",
      "78\n"
     ]
    }
   ],
   "source": [
    "l=[78,55,28,66,11,25]\n",
    "for i in range(len(l)):\n",
    "    for j in range(len(l)-1):\n",
    "        if (l[j]>l[j+1]):\n",
    "            l[j],l[j+1]=l[j+1],l[j]\n",
    "for i in range(len(l)):\n",
    "    print(l[i])\n",
    "    \n",
    "\n",
    "    "
   ]
  },
  {
   "cell_type": "markdown",
   "id": "52b8133d",
   "metadata": {},
   "source": [
    "# selective sort"
   ]
  },
  {
   "cell_type": "code",
   "execution_count": null,
   "id": "bc4f1b1c",
   "metadata": {},
   "outputs": [],
   "source": []
  },
  {
   "cell_type": "code",
   "execution_count": 4,
   "id": "60cec856",
   "metadata": {},
   "outputs": [
    {
     "name": "stdout",
     "output_type": "stream",
     "text": [
      "3\n",
      "4\n",
      "5\n",
      "8\n",
      "9\n"
     ]
    }
   ],
   "source": [
    "a=[9,5,8,4,3]\n",
    "for i in range(len(a)):\n",
    "    min_index=i\n",
    "    for j in range(i+1,len(a)):\n",
    "        if(a[j]<a[min_index]):\n",
    "            min_index=j\n",
    "            \n",
    "    a[i],a[min_index]=a[min_index],a[i]\n",
    "for i in range(len(a)):\n",
    "    print(a[i])\n",
    "        "
   ]
  },
  {
   "cell_type": "code",
   "execution_count": null,
   "id": "c2e1022b",
   "metadata": {},
   "outputs": [],
   "source": []
  },
  {
   "cell_type": "code",
   "execution_count": 5,
   "id": "e336198b",
   "metadata": {},
   "outputs": [
    {
     "name": "stdout",
     "output_type": "stream",
     "text": [
      "enter the size of array4\n",
      "Enter the numbers10\n",
      "Enter the numbers20\n",
      "Enter the numbers30\n",
      "Enter the numbers40\n",
      "Entered array will be [10, 20, 30, 40]\n",
      "maximum number from the entered number will be 40\n"
     ]
    }
   ],
   "source": [
    "#Print maximum number  from an array\n",
    "#taking array from user\n",
    "a=[]\n",
    "n=int(input(\"enter the size of array\"))\n",
    "for i in range(n):\n",
    "    ele=int(input(\"Enter the numbers\"))\n",
    "    a.append(ele)\n",
    "print(\"Entered array will be\",a)\n",
    "maximum=a[0]\n",
    "for i in range(len(a)):\n",
    "    if(a[i]>maximum):\n",
    "          maximum=a[i]\n",
    "print(\"maximum number from the entered number will be\",maximum)"
   ]
  },
  {
   "cell_type": "code",
   "execution_count": 4,
   "id": "76145f73",
   "metadata": {},
   "outputs": [
    {
     "name": "stdout",
     "output_type": "stream",
     "text": [
      "enter the no2\n",
      "Enter the numbers1\n",
      "Enter the numbers2\n",
      "Entered array will be [1, 2]\n",
      "minimum number from the entered numbers is  1\n"
     ]
    }
   ],
   "source": [
    "#Print minimum number from array\n",
    "a=[]\n",
    "n=int(input(\"enter the size of array\"))\n",
    "for i in range(n):\n",
    "    ele=int(input(\"Enter the numbers\"))\n",
    "    a.append(ele)\n",
    "print(\"Entered array will be\",a)\n",
    "minimum=a[0]\n",
    "for i in range(len(a)):\n",
    "    if(a[i]<minimum):\n",
    "          minimum=a[i]\n",
    "print(\"minimum number from the entered numbers is \",minimum)"
   ]
  },
  {
   "cell_type": "code",
   "execution_count": 7,
   "id": "2d0d903d",
   "metadata": {},
   "outputs": [
    {
     "name": "stdout",
     "output_type": "stream",
     "text": [
      "enter the size of array2\n",
      "Enter the numbers10\n",
      "Enter the numbers20\n",
      "Entered array will be [10, 20]\n",
      "Enter the number to find in array10\n",
      "element is at index 0\n"
     ]
    }
   ],
   "source": [
    "#Serach of an element\n",
    "a=[]\n",
    "n=int(input(\"enter the size of array\"))\n",
    "for i in range(n):\n",
    "    ele=int(input(\"Enter the numbers\"))\n",
    "    a.append(ele)\n",
    "print(\"Entered array will be\",a)\n",
    "\n",
    "x=int(input(\"Enter the number to find in array\"))\n",
    "\n",
    "for i in range(len(a)):\n",
    "    if(a[i]==x):\n",
    "        print(\"element is at index\",i)\n",
    "    "
   ]
  },
  {
   "cell_type": "code",
   "execution_count": 9,
   "id": "34d17e61",
   "metadata": {},
   "outputs": [
    {
     "name": "stdout",
     "output_type": "stream",
     "text": [
      "enter the size of array3\n",
      "Enter the numbers10\n",
      "Enter the numbers20\n",
      "Enter the numbers30\n",
      "1.print entered element \n",
      " 2.add array element \n",
      " 3.remove element \n",
      " 4.exit\n",
      "Enter the choice3\n",
      "Enter the element to remove from array20\n",
      "Array with removed elements will be [10, 30]\n"
     ]
    }
   ],
   "source": [
    "#Program to choose what to do in array\n",
    "a=[]\n",
    "n=int(input(\"enter the size of array\"))\n",
    "for i in range(n):\n",
    "    ele=int(input(\"Enter the numbers\"))\n",
    "    a.append(ele)\n",
    "\n",
    "print(\"1.print entered element \\n 2.add array element \\n 3.remove element \\n 4.exit\")\n",
    "ch=int(input(\"Enter the choice\"))\n",
    "if(ch==1):\n",
    "    print(\"Entered array will be\",a)\n",
    "if(ch==2):\n",
    "    n=int(input(\"how many numbers to add\"))\n",
    "    for i in range(n):\n",
    "        ele=int(input(\"Enter the numbers\"))\n",
    "        a.append(ele)\n",
    "    print(\"Array with added elements will be\",a)\n",
    "if(ch==3):\n",
    "    ele=int(input(\"Enter the element to remove from array\"))\n",
    "    a.remove(ele)\n",
    "    print(\"Array with removed elements will be\",a)\n",
    "if(ch==4):\n",
    "    exit"
   ]
  },
  {
   "cell_type": "code",
   "execution_count": null,
   "id": "82c27b0d",
   "metadata": {},
   "outputs": [],
   "source": []
  }
 ],
 "metadata": {
  "kernelspec": {
   "display_name": "Python 3 (ipykernel)",
   "language": "python",
   "name": "python3"
  },
  "language_info": {
   "codemirror_mode": {
    "name": "ipython",
    "version": 3
   },
   "file_extension": ".py",
   "mimetype": "text/x-python",
   "name": "python",
   "nbconvert_exporter": "python",
   "pygments_lexer": "ipython3",
   "version": "3.7.4"
  }
 },
 "nbformat": 4,
 "nbformat_minor": 5
}
