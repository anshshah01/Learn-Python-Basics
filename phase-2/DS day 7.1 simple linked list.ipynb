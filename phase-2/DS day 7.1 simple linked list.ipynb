{
 "cells": [
  {
   "cell_type": "markdown",
   "id": "327587e0",
   "metadata": {},
   "source": [
    "# in singly linked list\n",
    "node = data + next\n",
    "\n",
    "here,\n",
    "next means location of next element\n",
    " \n",
    "# in doubly linked list\n",
    "node = previous + data + next\n",
    "\n",
    "here,\n",
    "previous means location of previous element\n",
    "\n",
    "next means location of next element"
   ]
  },
  {
   "cell_type": "code",
   "execution_count": 3,
   "id": "0a304942",
   "metadata": {},
   "outputs": [
    {
     "name": "stdout",
     "output_type": "stream",
     "text": [
      "1 2 3 "
     ]
    }
   ],
   "source": [
    "class node:\n",
    "    def __init__(self,data):\n",
    "        self.data=data\n",
    "        self.next=None      # initially NEXT is NONE\n",
    "class linkedlist:\n",
    "    def __init__(self):\n",
    "        self.head=None     # initially HEAD is ALSO None\n",
    "    def printlist(self):\n",
    "        temp=self.head\n",
    "        while(temp):\n",
    "            print(temp.data,end=\" \")\n",
    "            temp=temp.next\n",
    "l1=linkedlist()\n",
    "l1.head=node(1)\n",
    "second=node(2)\n",
    "third=node(3)\n",
    "l1.head.next=second\n",
    "second.next=third\n",
    "l1.printlist()"
   ]
  },
  {
   "cell_type": "code",
   "execution_count": null,
   "id": "87416583",
   "metadata": {},
   "outputs": [],
   "source": []
  }
 ],
 "metadata": {
  "kernelspec": {
   "display_name": "Python 3 (ipykernel)",
   "language": "python",
   "name": "python3"
  },
  "language_info": {
   "codemirror_mode": {
    "name": "ipython",
    "version": 3
   },
   "file_extension": ".py",
   "mimetype": "text/x-python",
   "name": "python",
   "nbconvert_exporter": "python",
   "pygments_lexer": "ipython3",
   "version": "3.7.4"
  }
 },
 "nbformat": 4,
 "nbformat_minor": 5
}
