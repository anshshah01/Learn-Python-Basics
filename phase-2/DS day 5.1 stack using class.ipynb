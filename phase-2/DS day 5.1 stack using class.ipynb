{
 "cells": [
  {
   "cell_type": "code",
   "execution_count": 3,
   "id": "f93189d7",
   "metadata": {},
   "outputs": [
    {
     "name": "stdout",
     "output_type": "stream",
     "text": [
      "after push\n",
      "30\n",
      "20\n",
      "10\n",
      "peek is 30\n",
      "\n",
      "\n",
      "after pop\n",
      "20\n",
      "10\n",
      "peek is 20\n"
     ]
    }
   ],
   "source": [
    "## top means index of top element\n",
    "## peek means value of top element\n",
    "\n",
    "stack=[]\n",
    "top=-1\n",
    "class stack:\n",
    "    def __init__(self):\n",
    "        self.stack=[]\n",
    "        self.top=-1\n",
    "    def push(self,value):\n",
    "        self.stack.append(value)\n",
    "        self.top+=1\n",
    "    def pop(self):\n",
    "        self.stack.pop()\n",
    "        self.top-=1\n",
    "    def printstack(self):\n",
    "        for i in range(self.top,-1,-1):\n",
    "            print(self.stack[i])\n",
    "    def peek(self):\n",
    "        peek=self.top\n",
    "        return self.stack[peek]\n",
    "    \n",
    "            \n",
    "            \n",
    "s=stack()\n",
    "s.push(10)\n",
    "s.push(20)\n",
    "s.push(30)\n",
    "print(\"after push\")\n",
    "s.printstack()\n",
    "print(\"peek is\",s.peek()) \n",
    "\n",
    "print(\"\\n\")\n",
    "\n",
    "s.pop()\n",
    "print(\"after pop\")\n",
    "s.printstack()\n",
    "\n",
    "print(\"peek is\",s.peek()) \n",
    "\n",
    "\n"
   ]
  },
  {
   "cell_type": "code",
   "execution_count": null,
   "id": "614a24ff",
   "metadata": {},
   "outputs": [],
   "source": []
  }
 ],
 "metadata": {
  "kernelspec": {
   "display_name": "Python 3 (ipykernel)",
   "language": "python",
   "name": "python3"
  },
  "language_info": {
   "codemirror_mode": {
    "name": "ipython",
    "version": 3
   },
   "file_extension": ".py",
   "mimetype": "text/x-python",
   "name": "python",
   "nbconvert_exporter": "python",
   "pygments_lexer": "ipython3",
   "version": "3.7.4"
  }
 },
 "nbformat": 4,
 "nbformat_minor": 5
}
