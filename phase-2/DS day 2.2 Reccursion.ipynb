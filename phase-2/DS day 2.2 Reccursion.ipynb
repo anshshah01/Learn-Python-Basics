{
 "cells": [
  {
   "cell_type": "code",
   "execution_count": 1,
   "id": "3abd8a06",
   "metadata": {},
   "outputs": [],
   "source": [
    "###Factorial using recursion"
   ]
  },
  {
   "cell_type": "code",
   "execution_count": 2,
   "id": "114dd137",
   "metadata": {},
   "outputs": [
    {
     "name": "stdout",
     "output_type": "stream",
     "text": [
      "input number=5\n",
      "factorial is  120\n"
     ]
    }
   ],
   "source": [
    "fact=1\n",
    "def fact(n):\n",
    "    if(n==1):\n",
    "        return 1\n",
    "    else:\n",
    "        return n*fact(n-1)\n",
    "    \n",
    "n=int(input(\"input number=\"))\n",
    "print(\"factorial is \",fact(n))"
   ]
  },
  {
   "cell_type": "code",
   "execution_count": 3,
   "id": "6472274e",
   "metadata": {},
   "outputs": [],
   "source": [
    "#fibonacci using recursion"
   ]
  },
  {
   "cell_type": "code",
   "execution_count": 10,
   "id": "9283e30e",
   "metadata": {},
   "outputs": [
    {
     "name": "stdout",
     "output_type": "stream",
     "text": [
      "enter num5\n",
      "0\n",
      "1\n",
      "1\n",
      "2\n",
      "3\n"
     ]
    }
   ],
   "source": [
    "def fibo(n):\n",
    "    if(n==0 or n==1):\n",
    "        return n\n",
    "    else:\n",
    "        return fibo(n-1)+fibo(n-2)\n",
    "    \n",
    "num=int(input(\"enter num\"))\n",
    "for i in range(num):\n",
    "    print(fibo(i))"
   ]
  },
  {
   "cell_type": "code",
   "execution_count": null,
   "id": "230985c8",
   "metadata": {},
   "outputs": [],
   "source": []
  }
 ],
 "metadata": {
  "kernelspec": {
   "display_name": "Python 3 (ipykernel)",
   "language": "python",
   "name": "python3"
  },
  "language_info": {
   "codemirror_mode": {
    "name": "ipython",
    "version": 3
   },
   "file_extension": ".py",
   "mimetype": "text/x-python",
   "name": "python",
   "nbconvert_exporter": "python",
   "pygments_lexer": "ipython3",
   "version": "3.7.4"
  }
 },
 "nbformat": 4,
 "nbformat_minor": 5
}
